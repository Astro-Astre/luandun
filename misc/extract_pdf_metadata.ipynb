{
 "cells": [
  {
   "cell_type": "code",
   "execution_count": 3,
   "metadata": {},
   "outputs": [
    {
     "name": "stdout",
     "output_type": "stream",
     "text": [
      "The autoreload extension is already loaded. To reload it, use:\n",
      "  %reload_ext autoreload\n"
     ]
    }
   ],
   "source": [
    "%matplotlib inline\n",
    "%load_ext autoreload\n",
    "%autoreload 2\n",
    "\n",
    "import os\n",
    "import re\n",
    "import sys\n",
    "import copy\n",
    "import requests\n",
    "import subprocess\n",
    "\n",
    "import numpy as np"
   ]
  },
  {
   "cell_type": "code",
   "execution_count": 4,
   "metadata": {},
   "outputs": [],
   "source": [
    "from PyPDF2 import PdfFileReader\n",
    "from PyPDF2.utils import PdfReadError\n",
    "\n",
    "import doi\n",
    "import ads\n",
    "\n",
    "from crossref.restful import Works\n",
    "\n",
    "ads.config.token=os.environ['ADS_TOKEN']\n",
    "\n",
    "# Reference:\n",
    "# https://pypi.org/project/python-doi/\n",
    "# https://gist.github.com/jrsmith3/5513926\n",
    "# https://github.com/fabiobatalha/crossrefapi"
   ]
  },
  {
   "cell_type": "code",
   "execution_count": 5,
   "metadata": {},
   "outputs": [],
   "source": [
    "def check_pdf_file(pdf_file, verbose=True):\n",
    "    \"\"\"Make sure a PDF file exists and is valid.\"\"\"\n",
    "    # Check the PDF file exist\n",
    "    if not os.path.isfile(pdf_file):\n",
    "        if verbose:\n",
    "            print(\"# Can not find {:s}\".format(pdf_file))\n",
    "        return False\n",
    "    try:\n",
    "        pdf = PdfFileReader(open(pdf_file, 'rb'))\n",
    "        pdf.stream.close()\n",
    "        return True\n",
    "    except PdfReadError:\n",
    "        if verbose:\n",
    "            print(\"# {:s} is not a valid PDF file\".format(pdf_file))\n",
    "        return False\n",
    "\n",
    "def extract_doi(pdf_file, verbose=False):\n",
    "    \"\"\"Try to extract DOI string from the PDF file.\"\"\"\n",
    "    if not check_pdf_file(pdf_file, verbose=True):\n",
    "        return None\n",
    "    \n",
    "    doi_use = None\n",
    "    pdf = PdfFileReader(open(pdf_file, 'rb'))\n",
    "    \n",
    "    # Try to manually extract from the first page\n",
    "    first_page = pdf.getPage(0).extractText()\n",
    "\n",
    "    # Some ApJ paper has this issue...\n",
    "    first_page = re.sub(r'©', ' ', first_page)\n",
    "\n",
    "    if 'doi' in first_page:\n",
    "        doi_str = doi.find_doi_in_text(first_page)\n",
    "    else:\n",
    "        doi_str = None\n",
    "\n",
    "    try: \n",
    "        if doi.validate_doi(doi_str) is not None:\n",
    "            doi_use = doi_str\n",
    "        else:\n",
    "            doi_use = None\n",
    "    except ValueError:\n",
    "        doi_use = None\n",
    "        \n",
    "    # Directly extract from PDF using doi.pdf_to_doi\n",
    "    if doi_use is None:\n",
    "        try: \n",
    "            doi_str = doi.pdf_to_doi(pdf_file)\n",
    "            try: \n",
    "                if doi.validate_doi(doi_str) is not None:\n",
    "                    doi_use = doi_str\n",
    "                else:\n",
    "                    doi_use = None\n",
    "            except ValueError:\n",
    "                doi_use = None \n",
    "        except Exception:\n",
    "            doi_use = None\n",
    "            \n",
    "    if doi_use is None:\n",
    "        print(\"# No valid DOI for {:s}\".format(pdf_file))\n",
    "\n",
    "    pdf.stream.close()\n",
    "    \n",
    "    if doi_use is not None and verbose:\n",
    "        print(\"# DOI for {:s} is {:s}\".format(pdf_file, doi_use))\n",
    "    \n",
    "    return doi_use"
   ]
  },
  {
   "cell_type": "markdown",
   "metadata": {},
   "source": [
    "## Understand the metadata inside a PDF paper\n",
    "\n",
    "### First author name and publication year based on DOI \n",
    "\n",
    "#### What is DOI?\n",
    "\n",
    "* `DOI` (digital object identifier) is a [\"persistent identifier or handle used to identify objects uniquely, standardized by the International Organization for Standardization (ISO)\"](https://en.wikipedia.org/wiki/Digital_object_identifier)\n",
    "* You can use [this website](https://www.doi.org/) to verify and resolve a DOI number\n",
    "\n",
    "#### Goal:\n",
    "\n",
    "* Try to extract DOI information from a downloaded paper in PDF format.\n",
    "* Resolve the DOI, get the bibliographic information. \n",
    "* Get the family name of the first author and the year of publication\n",
    "* Rename the PDF file based on these information"
   ]
  },
  {
   "cell_type": "code",
   "execution_count": 6,
   "metadata": {},
   "outputs": [],
   "source": [
    "pdf_file = '/Users/song/Downloads/1904.07524.pdf'\n",
    "pdf_file = '/Users/song/Downloads/352-2-L6.pdf'\n",
    "#pdf_file = '/Users/song/Downloads/wu2019.pdf'\n",
    "#pdf_file = '/Users/song/Downloads/Bleem_2020_ApJS_247_25.pdf'\n",
    "#pdf_file = '/Users/song/Downloads/galaxies-05-00033.pdf'\n",
    "#pdf_file = '/Users/song/Downloads/j.1745-3933.2008.00567.x.pdf'\n",
    "#pdf_file = '/Users/song/Downloads/sensors-20-02031.pdf'\n",
    "#pdf_file = '/Users/song/Downloads/dong2019.pdf'\n",
    "pdf_file = '/Users/song/Downloads/stv264.pdf'\n",
    "pdf_file = '/Users/song/Downloads/van_der_Wel_2014_ApJL_792_L6.pdf'"
   ]
  },
  {
   "cell_type": "code",
   "execution_count": 7,
   "metadata": {},
   "outputs": [
    {
     "name": "stderr",
     "output_type": "stream",
     "text": [
      "PdfReadWarning: Xref table not zero-indexed. ID numbers for objects will be corrected. [pdf.py:1736]\n"
     ]
    },
    {
     "name": "stdout",
     "output_type": "stream",
     "text": [
      "# DOI for /Users/song/Downloads/van_der_Wel_2014_ApJL_792_L6.pdf is 10.1088/2041-8205/792/1/L6\n"
     ]
    }
   ],
   "source": [
    "doi_use = extract_doi(pdf_file, verbose=True)"
   ]
  },
  {
   "cell_type": "code",
   "execution_count": 8,
   "metadata": {},
   "outputs": [
    {
     "data": {
      "text/plain": [
       "'van_der_Wel_2014'"
      ]
     },
     "execution_count": 8,
     "metadata": {},
     "output_type": "execute_result"
    }
   ],
   "source": [
    "doi_url = \"http://dx.doi.org/\" + doi_use\n",
    "\n",
    "headers = {\"accept\": \"text/bibliography; style=bibtex\"}\n",
    "\n",
    "r = requests.get(doi_url, headers=headers)\n",
    "re.split(' |, |{', r.text)[2]"
   ]
  },
  {
   "cell_type": "code",
   "execution_count": 9,
   "metadata": {},
   "outputs": [
    {
     "data": {
      "text/plain": [
       "' @article{van_der_Wel_2014, title={GEOMETRY OF STAR-FORMING GALAXIES FROM SDSS, 3D-HST, AND CANDELS}, volume={792}, ISSN={2041-8213}, url={http://dx.doi.org/10.1088/2041-8205/792/1/L6}, DOI={10.1088/2041-8205/792/1/l6}, number={1}, journal={The Astrophysical Journal}, publisher={IOP Publishing}, author={van der Wel, A. and Chang, Yu-Yen and Bell, E. F. and Holden, B. P. and Ferguson, H. C. and Giavalisco, M. and Rix, H.-W. and Skelton, R. and Whitaker, K. and Momcheva, I. and et al.}, year={2014}, month={Aug}, pages={L6}}\\n'"
      ]
     },
     "execution_count": 9,
     "metadata": {},
     "output_type": "execute_result"
    }
   ],
   "source": [
    "r.text"
   ]
  },
  {
   "cell_type": "code",
   "execution_count": null,
   "metadata": {},
   "outputs": [],
   "source": []
  },
  {
   "cell_type": "markdown",
   "metadata": {},
   "source": [
    "#### Try to get journal from ADS"
   ]
  },
  {
   "cell_type": "code",
   "execution_count": 243,
   "metadata": {},
   "outputs": [
    {
     "name": "stdout",
     "output_type": "stream",
     "text": [
      "2014ApJ...792L...6V\n"
     ]
    }
   ],
   "source": [
    "a = list(ads.SearchQuery(q='doi:{:s}'.format(doi_use)))\n",
    "print(a[0].bibcode)"
   ]
  },
  {
   "cell_type": "markdown",
   "metadata": {},
   "source": [
    "#### Test other regular expression for DOI"
   ]
  },
  {
   "cell_type": "code",
   "execution_count": 245,
   "metadata": {},
   "outputs": [],
   "source": [
    "pattern = r'\\b(10[.][0-9]{4,}(?:[.][0-9]+)*/(?:(?![\"&\\'<>])\\S)+)\\b'\n",
    "pattern = r'\\b(10[.][0-9]{4,}(?:[.][0-9]+)*/(?:(?![\"&\\'])\\S)+)\\b'\n",
    "pattern = r'\\b(10.\\d{4,9}/[-._;()/:A-Z0-9]+)\\b'"
   ]
  },
  {
   "cell_type": "code",
   "execution_count": 247,
   "metadata": {},
   "outputs": [
    {
     "data": {
      "text/plain": [
       "<re.Match object; span=(0, 26), match='10.1088/2041-8205/792/1/L6'>"
      ]
     },
     "execution_count": 247,
     "metadata": {},
     "output_type": "execute_result"
    }
   ],
   "source": [
    "re.match(pattern, doi_use)"
   ]
  }
 ],
 "metadata": {
  "kernelspec": {
   "display_name": "Python 3",
   "language": "python",
   "name": "python3"
  },
  "language_info": {
   "codemirror_mode": {
    "name": "ipython",
    "version": 3
   },
   "file_extension": ".py",
   "mimetype": "text/x-python",
   "name": "python",
   "nbconvert_exporter": "python",
   "pygments_lexer": "ipython3",
   "version": "3.7.7"
  }
 },
 "nbformat": 4,
 "nbformat_minor": 4
}
