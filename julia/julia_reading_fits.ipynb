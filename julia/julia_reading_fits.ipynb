{
 "cells": [
  {
   "cell_type": "markdown",
   "metadata": {},
   "source": [
    "## Learn how to read and write FITS files\n",
    "\n",
    "- [`FITSIO.jl`](https://juliaastro.github.io/FITSIO.jl/stable/)"
   ]
  },
  {
   "cell_type": "markdown",
   "metadata": {},
   "source": [
    "### Install the `FITSIO` package"
   ]
  },
  {
   "cell_type": "code",
   "execution_count": 8,
   "metadata": {},
   "outputs": [
    {
     "name": "stderr",
     "output_type": "stream",
     "text": [
      "\u001b[32m\u001b[1m  Resolving\u001b[22m\u001b[39m package versions...\n",
      "\u001b[32m\u001b[1m  Installed\u001b[22m\u001b[39m PkgAuthentication ─── v0.1.1\n",
      "\u001b[32m\u001b[1m  Installed\u001b[22m\u001b[39m CFITSIO_jll ───────── v3.48.0+0\n",
      "\u001b[32m\u001b[1m  Installed\u001b[22m\u001b[39m Compat ────────────── v3.13.0\n",
      "\u001b[32m\u001b[1m  Installed\u001b[22m\u001b[39m FITSIO ────────────── v0.16.1\n",
      "\u001b[32m\u001b[1m  Installed\u001b[22m\u001b[39m OrderedCollections ── v1.3.0\n",
      "\u001b[32m\u001b[1m  Installed\u001b[22m\u001b[39m DataStructures ────── v0.17.20\n",
      "\u001b[32m\u001b[1m  Installed\u001b[22m\u001b[39m Colors ────────────── v0.12.3\n",
      "\u001b[32m\u001b[1m  Installed\u001b[22m\u001b[39m Weave ─────────────── v0.10.2\n",
      "\u001b[32m\u001b[1m  Installed\u001b[22m\u001b[39m Distances ─────────── v0.9.0\n",
      "\u001b[32m\u001b[1m  Installed\u001b[22m\u001b[39m MbedTLS_jll ───────── v2.16.6+1\n",
      "\u001b[32m\u001b[1m  Installed\u001b[22m\u001b[39m LibSSH2_jll ───────── v1.9.0+3\n",
      "\u001b[32m\u001b[1m  Installed\u001b[22m\u001b[39m StringDistances ───── v0.6.5\n",
      "\u001b[32m\u001b[1m  Installed\u001b[22m\u001b[39m Mustache ──────────── v1.0.3\n",
      "\u001b[32m\u001b[1m  Installed\u001b[22m\u001b[39m CodeTools ─────────── v0.7.1\n",
      "\u001b[32m\u001b[1m  Installed\u001b[22m\u001b[39m Parsers ───────────── v1.0.7\n",
      "\u001b[32m\u001b[1m  Installed\u001b[22m\u001b[39m nghttp2_jll ───────── v1.40.0+2\n",
      "\u001b[32m\u001b[1m  Installed\u001b[22m\u001b[39m SoftGlobalScope ───── v1.1.0\n",
      "\u001b[32m\u001b[1m  Installed\u001b[22m\u001b[39m ColorTypes ────────── v0.10.7\n",
      "\u001b[32m\u001b[1m  Installed\u001b[22m\u001b[39m FixedPointNumbers ─── v0.8.4\n",
      "\u001b[32m\u001b[1m  Installed\u001b[22m\u001b[39m ZeroMQ_jll ────────── v4.3.2+4\n",
      "\u001b[32m\u001b[1m  Installed\u001b[22m\u001b[39m Pidfile ───────────── v1.2.0\n",
      "\u001b[32m\u001b[1m  Installed\u001b[22m\u001b[39m Traceur ───────────── v0.3.1\n",
      "\u001b[32m\u001b[1m  Installed\u001b[22m\u001b[39m HTTP ──────────────── v0.8.19\n",
      "\u001b[32m\u001b[1m  Installed\u001b[22m\u001b[39m CFITSIO ───────────── v1.0.0\n",
      "\u001b[32m\u001b[1m  Installed\u001b[22m\u001b[39m Tables ────────────── v1.0.5\n",
      "\u001b[32m\u001b[1m  Installed\u001b[22m\u001b[39m DocStringExtensions ─ v0.8.2\n",
      "\u001b[32m\u001b[1m  Installed\u001b[22m\u001b[39m BinaryProvider ────── v0.5.91\n",
      "\u001b[32m\u001b[1m  Installed\u001b[22m\u001b[39m LibCURL_jll ───────── v7.71.1+0\n",
      "\u001b[32m\u001b[1m  Installed\u001b[22m\u001b[39m Zlib_jll ──────────── v1.2.11+15\n",
      "\u001b[32m\u001b[1m  Installed\u001b[22m\u001b[39m ZMQ ───────────────── v1.2.1\n",
      "\u001b[32m\u001b[1m  Installed\u001b[22m\u001b[39m JuliaInterpreter ──── v0.7.24\n",
      "\u001b[32m\u001b[1m  Installed\u001b[22m\u001b[39m CSTParser ─────────── v2.5.0\n",
      "\u001b[32m\u001b[1m  Installed\u001b[22m\u001b[39m WebIO ─────────────── v0.8.93\n",
      "\u001b[32m\u001b[1m  Installed\u001b[22m\u001b[39m FileIO ────────────── v1.4.0\n",
      "######################################################################### 100.0% 15.0%\n",
      "######################################################################### 100.0%\n",
      "######################################################################### 100.0%\n",
      "######################################################################### 100.0%\n",
      "######################################################################### 100.0%\n",
      "######################################################################### 100.0%\n",
      "######################################################################### 100.0%\n",
      "\u001b[32m\u001b[1m   Updating\u001b[22m\u001b[39m `~/.juliapro/JuliaPro_v1.4.1-1/environments/v1.4/Project.toml`\n",
      " \u001b[90m [525bcba6]\u001b[39m\u001b[92m + FITSIO v0.16.1\u001b[39m\n",
      " \u001b[90m [4722fa14]\u001b[39m\u001b[95m ↓ PkgAuthentication v0.1.2 ⇒ v0.1.1\u001b[39m\n",
      " \u001b[90m [44d3d7a6]\u001b[39m\u001b[93m ↑ Weave v0.9.4 ⇒ v0.10.2\u001b[39m\n",
      "\u001b[32m\u001b[1m   Updating\u001b[22m\u001b[39m `~/.juliapro/JuliaPro_v1.4.1-1/environments/v1.4/Manifest.toml`\n",
      " \u001b[90m [b99e7846]\u001b[39m\u001b[92m + BinaryProvider v0.5.91\u001b[39m\n",
      " \u001b[90m [3b1b4be9]\u001b[39m\u001b[92m + CFITSIO v1.0.0\u001b[39m\n",
      " \u001b[90m [b3e40c51]\u001b[39m\u001b[92m + CFITSIO_jll v3.48.0+0\u001b[39m\n",
      " \u001b[90m [00ebfdb7]\u001b[39m\u001b[93m ↑ CSTParser v2.2.1 ⇒ v2.5.0\u001b[39m\n",
      " \u001b[90m [53a63b46]\u001b[39m\u001b[93m ↑ CodeTools v0.7.0 ⇒ v0.7.1\u001b[39m\n",
      " \u001b[90m [3da002f7]\u001b[39m\u001b[93m ↑ ColorTypes v0.10.3 ⇒ v0.10.7\u001b[39m\n",
      " \u001b[90m [5ae59095]\u001b[39m\u001b[93m ↑ Colors v0.12.0 ⇒ v0.12.3\u001b[39m\n",
      " \u001b[90m [34da2185]\u001b[39m\u001b[93m ↑ Compat v3.9.0 ⇒ v3.13.0\u001b[39m\n",
      " \u001b[90m [864edb3b]\u001b[39m\u001b[93m ↑ DataStructures v0.17.15 ⇒ v0.17.20\u001b[39m\n",
      " \u001b[90m [b4f34e82]\u001b[39m\u001b[93m ↑ Distances v0.8.2 ⇒ v0.9.0\u001b[39m\n",
      " \u001b[90m [ffbed154]\u001b[39m\u001b[93m ↑ DocStringExtensions v0.8.1 ⇒ v0.8.2\u001b[39m\n",
      " \u001b[90m [525bcba6]\u001b[39m\u001b[92m + FITSIO v0.16.1\u001b[39m\n",
      " \u001b[90m [5789e2e9]\u001b[39m\u001b[93m ↑ FileIO v1.3.0 ⇒ v1.4.0\u001b[39m\n",
      " \u001b[90m [53c48c17]\u001b[39m\u001b[93m ↑ FixedPointNumbers v0.8.0 ⇒ v0.8.4\u001b[39m\n",
      " \u001b[90m [cd3eb016]\u001b[39m\u001b[93m ↑ HTTP v0.8.14 ⇒ v0.8.19\u001b[39m\n",
      " \u001b[90m [aa1ae85d]\u001b[39m\u001b[93m ↑ JuliaInterpreter v0.7.14 ⇒ v0.7.24\u001b[39m\n",
      " \u001b[90m [deac9b47]\u001b[39m\u001b[92m + LibCURL_jll v7.71.1+0\u001b[39m\n",
      " \u001b[90m [29816b5a]\u001b[39m\u001b[92m + LibSSH2_jll v1.9.0+3\u001b[39m\n",
      " \u001b[90m [c8ffd9c3]\u001b[39m\u001b[93m ↑ MbedTLS_jll v2.16.0+2 ⇒ v2.16.6+1\u001b[39m\n",
      " \u001b[90m [ffc61752]\u001b[39m\u001b[93m ↑ Mustache v1.0.2 ⇒ v1.0.3\u001b[39m\n",
      " \u001b[90m [bac558e1]\u001b[39m\u001b[93m ↑ OrderedCollections v1.2.0 ⇒ v1.3.0\u001b[39m\n",
      " \u001b[90m [69de0a69]\u001b[39m\u001b[93m ↑ Parsers v1.0.2 ⇒ v1.0.7\u001b[39m\n",
      " \u001b[90m [fa939f87]\u001b[39m\u001b[93m ↑ Pidfile v1.1.0 ⇒ v1.2.0\u001b[39m\n",
      " \u001b[90m [4722fa14]\u001b[39m\u001b[95m ↓ PkgAuthentication v0.1.2 ⇒ v0.1.1\u001b[39m\n",
      " \u001b[90m [b85f4697]\u001b[39m\u001b[93m ↑ SoftGlobalScope v1.0.10 ⇒ v1.1.0\u001b[39m\n",
      " \u001b[90m [88034a9c]\u001b[39m\u001b[93m ↑ StringDistances v0.6.4 ⇒ v0.6.5\u001b[39m\n",
      " \u001b[90m [bd369af6]\u001b[39m\u001b[93m ↑ Tables v1.0.4 ⇒ v1.0.5\u001b[39m\n",
      " \u001b[90m [37b6cedf]\u001b[39m\u001b[93m ↑ Traceur v0.3.0 ⇒ v0.3.1\u001b[39m\n",
      " \u001b[90m [44d3d7a6]\u001b[39m\u001b[93m ↑ Weave v0.9.4 ⇒ v0.10.2\u001b[39m\n",
      " \u001b[90m [0f1e0344]\u001b[39m\u001b[93m ↑ WebIO v0.8.92 ⇒ v0.8.93\u001b[39m\n",
      " \u001b[90m [c2297ded]\u001b[39m\u001b[93m ↑ ZMQ v1.2.0 ⇒ v1.2.1\u001b[39m\n",
      " \u001b[90m [8f1865be]\u001b[39m\u001b[93m ↑ ZeroMQ_jll v4.3.2+2 ⇒ v4.3.2+4\u001b[39m\n",
      " \u001b[90m [83775a58]\u001b[39m\u001b[92m + Zlib_jll v1.2.11+15\u001b[39m\n",
      " \u001b[90m [8e850ede]\u001b[39m\u001b[92m + nghttp2_jll v1.40.0+2\u001b[39m\n",
      "\u001b[32m\u001b[1m   Building\u001b[22m\u001b[39m WebIO → `~/.juliapro/JuliaPro_v1.4.1-1/packages/WebIO/UxZh5/deps/build.log`\n"
     ]
    }
   ],
   "source": [
    "using Pkg\n",
    "\n",
    "Pkg.add(\"FITSIO\")"
   ]
  },
  {
   "cell_type": "markdown",
   "metadata": {},
   "source": [
    "### Try the demo"
   ]
  },
  {
   "cell_type": "code",
   "execution_count": 14,
   "metadata": {},
   "outputs": [
    {
     "name": "stderr",
     "output_type": "stream",
     "text": [
      "┌ Info: Precompiling FITSIO [525bcba6-941b-5504-bd06-fd0dc1a4d2eb]\n",
      "└ @ Base loading.jl:1260\n"
     ]
    }
   ],
   "source": [
    "using FITSIO"
   ]
  },
  {
   "cell_type": "markdown",
   "metadata": {},
   "source": [
    "#### Try an image"
   ]
  },
  {
   "cell_type": "code",
   "execution_count": 62,
   "metadata": {},
   "outputs": [
    {
     "data": {
      "text/plain": [
       "File: /Users/song/Downloads/calexp-HSC-I-8280-5,8.fits\n",
       "Mode: \"r\" (read-only)\n",
       "HDUs: Num  Name  Type   \n",
       "      1          Image  \n",
       "      2          Image  \n",
       "      3          Image  \n",
       "      4          Image  \n",
       "      5          Table  \n",
       "      6          Table  \n",
       "      7          Table  \n",
       "      8          Table  \n",
       "      9          Table  \n",
       "      10         Table  \n",
       "      11         Table  \n",
       "      12         Table  \n",
       "      13         Table  \n",
       "      14         Table  \n",
       "      15         Table  \n",
       "      16         Table  \n",
       "      17         Table  \n",
       "      18         Table  \n",
       "      19         Table  \n",
       "      20         Table  \n",
       "      21         Table  \n",
       "      22         Table  \n",
       "      23         Table  \n",
       "      24         Table  \n",
       "      25         Table  \n",
       "      26         Table  \n",
       "      27         Table  \n",
       "      28         Table  \n",
       "      29         Table  \n",
       "      30         Table  "
      ]
     },
     "execution_count": 62,
     "metadata": {},
     "output_type": "execute_result"
    }
   ],
   "source": [
    "fits_img = FITS(\"/Users/song/Downloads/calexp-HSC-I-8280-5,8.fits\")"
   ]
  },
  {
   "cell_type": "code",
   "execution_count": 21,
   "metadata": {},
   "outputs": [
    {
     "name": "stdout",
     "output_type": "stream",
     "text": [
      "ImageHDU\n",
      "ImageHDU\n",
      "ImageHDU\n",
      "ImageHDU\n",
      "TableHDU\n",
      "TableHDU\n",
      "TableHDU\n",
      "TableHDU\n",
      "TableHDU\n",
      "TableHDU\n",
      "TableHDU\n",
      "TableHDU\n",
      "TableHDU\n",
      "TableHDU\n",
      "TableHDU\n",
      "TableHDU\n",
      "TableHDU\n",
      "TableHDU\n",
      "TableHDU\n",
      "TableHDU\n",
      "TableHDU\n",
      "TableHDU\n",
      "TableHDU\n",
      "TableHDU\n",
      "TableHDU\n",
      "TableHDU\n",
      "TableHDU\n",
      "TableHDU\n",
      "TableHDU\n",
      "TableHDU\n"
     ]
    }
   ],
   "source": [
    "for hdu in fits_img; println(typeof(hdu)); end"
   ]
  },
  {
   "cell_type": "code",
   "execution_count": 20,
   "metadata": {},
   "outputs": [
    {
     "data": {
      "text/plain": [
       "File: /Users/song/Downloads/calexp-HSC-I-8280-5,8.fits\n",
       "HDU: 1\n",
       "Type: Image\n",
       "Datatype: UInt8\n",
       "Datasize: ()"
      ]
     },
     "execution_count": 20,
     "metadata": {},
     "output_type": "execute_result"
    }
   ],
   "source": [
    "# Primary HDU is indexed 1\n",
    "fits_img[1]"
   ]
  },
  {
   "cell_type": "code",
   "execution_count": 19,
   "metadata": {},
   "outputs": [
    {
     "data": {
      "text/plain": [
       "File: /Users/song/Downloads/calexp-HSC-I-8280-5,8.fits\n",
       "HDU: 2\n",
       "Type: Image\n",
       "Datatype: Float32\n",
       "Datasize: (4200, 4100)"
      ]
     },
     "execution_count": 19,
     "metadata": {},
     "output_type": "execute_result"
    }
   ],
   "source": [
    "fits_img[2]"
   ]
  },
  {
   "cell_type": "code",
   "execution_count": 25,
   "metadata": {},
   "outputs": [],
   "source": [
    "# Read data\n",
    "img_data = read(fits_img[2]);"
   ]
  },
  {
   "cell_type": "code",
   "execution_count": 27,
   "metadata": {},
   "outputs": [
    {
     "data": {
      "text/plain": [
       "2"
      ]
     },
     "execution_count": 27,
     "metadata": {},
     "output_type": "execute_result"
    }
   ],
   "source": [
    "# Dimensions of the array\n",
    "ndims(img_data)"
   ]
  },
  {
   "cell_type": "code",
   "execution_count": 28,
   "metadata": {},
   "outputs": [
    {
     "data": {
      "text/plain": [
       "(4200, 4100)"
      ]
     },
     "execution_count": 28,
     "metadata": {},
     "output_type": "execute_result"
    }
   ],
   "source": [
    "size(img_data)"
   ]
  },
  {
   "cell_type": "code",
   "execution_count": 29,
   "metadata": {},
   "outputs": [
    {
     "data": {
      "text/plain": [
       "Array{Float32,2}"
      ]
     },
     "execution_count": 29,
     "metadata": {},
     "output_type": "execute_result"
    }
   ],
   "source": [
    "typeof(img_data)"
   ]
  },
  {
   "cell_type": "code",
   "execution_count": 37,
   "metadata": {},
   "outputs": [
    {
     "data": {
      "text/plain": [
       "XTENSION=           'BINTABLE' / binary table extension\n",
       "BITPIX  =                    8 / 8-bit bytes\n",
       "NAXIS   =                    2 / 2-dimensional binary table\n",
       "NAXIS1  =                    8 / width of table in bytes\n",
       "NAXIS2  =                 4100 / number of rows in table\n",
       "PCOUNT  =             62482847 / size of special data area\n",
       "GCOUNT  =                    1 / one data group (required keyword)\n",
       "TFIELDS =                    1 / number of fields in each row\n",
       "TTYPE1  =    'COMPRESSED_DATA' / label for field   1\n",
       "TFORM1  =         '1PB(15302)' / data format of field: variable length array\n",
       "ZIMAGE  =                    T / extension contains compressed image\n",
       "ZSIMPLE =                    T / file does conform to FITS standard\n",
       "ZBITPIX =                  -32 / data type of original image\n",
       "ZNAXIS  =                    2 / dimension of original image\n",
       "ZNAXIS1 =                 4200 / length of original image axis\n",
       "ZNAXIS2 =                 4100 / length of original image axis\n",
       "ZTILE1  =                 4200 / size of tiles to be compressed\n",
       "ZTILE2  =                    1 / size of tiles to be compressed\n",
       "ZQUANTIZ=               'NONE' / Lossless compression without quantization\n",
       "ZCMPTYPE=             'GZIP_2' / compression algorithm\n",
       "WCSAXES =                    2 / Number of WCS axes\n",
       "CRPIX1  =              -1900.0 / Reference pixel on axis 1\n",
       "CRPIX2  =             -13900.0 / Reference pixel on axis 2\n",
       "CRVAL1  =     31.3692946058091 / Value at ref. pixel on axis 1\n",
       "CRVAL2  =    -6.69421487603305 / Value at ref. pixel on axis 2\n",
       "CTYPE1  =           'RA---TAN' / Type of co-ordinate on axis 1\n",
       "CTYPE2  =           'DEC--TAN' / Type of co-ordinate on axis 2\n",
       "CD1_1   = -4.66666666666393e-5 / Transformation matrix element\n",
       "CD2_2   =  4.66666666666384e-5 / Transformation matrix element\n",
       "RADESYS =               'ICRS' / Reference frame for RA/DEC values\n",
       "CD1_2   =                  0.0 / Transformation matrix element\n",
       "CD2_1   =                  0.0 / Transformation matrix element\n",
       "LTV1    =             -19900.0\n",
       "LTV2    =             -31900.0\n",
       "INHERIT =                    T\n",
       "EXTTYPE =              'IMAGE'\n",
       "CTYPE1A =             'LINEAR' / Type of projection\n",
       "CTYPE2A =             'LINEAR' / Type of projection\n",
       "CRPIX1A =                  1.0 / Column Pixel Coordinate of Reference\n",
       "CRPIX2A =                  1.0 / Row Pixel Coordinate of Reference\n",
       "CRVAL1A =              19900.0 / Column pixel of Reference Pixel\n",
       "CRVAL2A =              31900.0 / Row pixel of Reference Pixel\n",
       "CUNIT1A =              'PIXEL' / Column unit\n",
       "CUNIT2A =              'PIXEL' / Row unit\n",
       "BZERO   =                  0.0 / Scaling: MEMORY = BZERO + BSCALE * DISK\n",
       "BSCALE  =                  1.0 / Scaling: MEMORY = BZERO + BSCALE * DISK"
      ]
     },
     "execution_count": 37,
     "metadata": {},
     "output_type": "execute_result"
    }
   ],
   "source": [
    "# Read header\n",
    "img_header = read_header(fits_img[2])"
   ]
  },
  {
   "cell_type": "code",
   "execution_count": 39,
   "metadata": {},
   "outputs": [
    {
     "data": {
      "text/plain": [
       "0.0"
      ]
     },
     "execution_count": 39,
     "metadata": {},
     "output_type": "execute_result"
    }
   ],
   "source": [
    "# Access Keys\n",
    "img_header[\"BZERO\"]"
   ]
  },
  {
   "cell_type": "code",
   "execution_count": 40,
   "metadata": {},
   "outputs": [
    {
     "data": {
      "text/plain": [
       "true"
      ]
     },
     "execution_count": 40,
     "metadata": {},
     "output_type": "execute_result"
    }
   ],
   "source": [
    "# Check whether a key is available\n",
    "haskey(img_header, \"NAXIS1\")"
   ]
  },
  {
   "cell_type": "code",
   "execution_count": 41,
   "metadata": {},
   "outputs": [
    {
     "data": {
      "text/plain": [
       "\"Transformation matrix element\""
      ]
     },
     "execution_count": 41,
     "metadata": {},
     "output_type": "execute_result"
    }
   ],
   "source": [
    "# Get the comment of the key\n",
    "get_comment(img_header, \"CD1_1\")"
   ]
  },
  {
   "cell_type": "code",
   "execution_count": 42,
   "metadata": {},
   "outputs": [
    {
     "data": {
      "text/plain": [
       "(-31900.0, \"\")"
      ]
     },
     "execution_count": 42,
     "metadata": {},
     "output_type": "execute_result"
    }
   ],
   "source": [
    "# Read just single key from the header\n",
    "read_key(fits_img[2], \"LTV2\")"
   ]
  },
  {
   "cell_type": "code",
   "execution_count": 46,
   "metadata": {},
   "outputs": [],
   "source": [
    "# Change key value or comment; Or add new key\n",
    "img_header[\"NEW_KEY\"] = 100;\n",
    "set_comment!(img_header, \"NEW_KEY\", \"Add new comment\");"
   ]
  },
  {
   "cell_type": "code",
   "execution_count": 47,
   "metadata": {},
   "outputs": [],
   "source": [
    "# Close the fits file\n",
    "close(fits_img)"
   ]
  },
  {
   "cell_type": "code",
   "execution_count": 70,
   "metadata": {},
   "outputs": [
    {
     "data": {
      "text/plain": [
       "11×11 Array{Float32,2}:\n",
       " -0.0461018   0.0508312   -0.0100519   …  -0.0325796   -0.12273\n",
       "  0.0082841   0.0213642   -0.0435737      -0.0740869   -0.0564351\n",
       " -0.0173845  -0.0246442   -0.0164287      -0.134441    -0.0144921\n",
       " -0.09375     0.00661923   0.0352231       0.0393343   -0.0468585\n",
       "  0.0828236   0.0779076   -0.047793       -0.0454649   -0.00588205\n",
       "  0.0354833  -0.138431    -0.0143401   …  -0.00774719   0.0841327\n",
       " -0.0380451  -0.108917     0.124693        0.0803998    0.0738517\n",
       "  0.0291431   0.0503776    0.00866281      0.0203708    0.04334\n",
       " -0.108254   -0.0109136   -0.0949808       0.0194397    0.103919\n",
       "  0.035279   -0.0421809    0.0424543      -0.0714563   -0.00792308\n",
       "  0.0933746  -0.0110469   -0.0189201   …   0.00986808  -0.111015"
      ]
     },
     "execution_count": 70,
     "metadata": {},
     "output_type": "execute_result"
    }
   ],
   "source": [
    "# Read only a section of the image\n",
    "img_cut = read(fits_img[2], 10:20, 20:30)"
   ]
  },
  {
   "cell_type": "markdown",
   "metadata": {},
   "source": [
    "#### Try a table"
   ]
  },
  {
   "cell_type": "code",
   "execution_count": 48,
   "metadata": {},
   "outputs": [
    {
     "data": {
      "text/plain": [
       "File: /Users/song/Downloads/m104_5deg-result.fits\n",
       "Mode: \"r\" (read-only)\n",
       "HDUs: Num  Name     Type   \n",
       "      1             Image  \n",
       "      2    votable  Table  "
      ]
     },
     "execution_count": 48,
     "metadata": {},
     "output_type": "execute_result"
    }
   ],
   "source": [
    "fits_cat = FITS(\"/Users/song/Downloads/m104_5deg-result.fits\")"
   ]
  },
  {
   "cell_type": "code",
   "execution_count": 50,
   "metadata": {},
   "outputs": [
    {
     "data": {
      "text/plain": [
       "File: /Users/song/Downloads/m104_5deg-result.fits\n",
       "HDU: 2 (name=votable)\n",
       "Type: Table\n",
       "Rows: 428398\n",
       "Columns: Name                             Size  Type     TFORM  \n",
       "         solution_id                            Int64    K      \n",
       "         designation                            String   29A    \n",
       "         source_id                              Int64    K      \n",
       "         random_index                           Int64    K      \n",
       "         ref_epoch                              Float64  D      \n",
       "         ra                                     Float64  D      \n",
       "         ra_error                               Float32  E      \n",
       "         dec                                    Float64  D      \n",
       "         dec_error                              Float32  E      \n",
       "         parallax                               Float64  D      \n",
       "         parallax_error                         Float32  E      \n",
       "         parallax_over_error                    Float32  E      \n",
       "         pm                                     Float32  E      \n",
       "         pmra                                   Float64  D      \n",
       "         pmra_error                             Float32  E      \n",
       "         pmdec                                  Float64  D      \n",
       "         pmdec_error                            Float32  E      \n",
       "         ra_dec_corr                            Float32  E      \n",
       "         ra_parallax_corr                       Float32  E      \n",
       "         ra_pmra_corr                           Float32  E      \n",
       "         ra_pmdec_corr                          Float32  E      \n",
       "         dec_parallax_corr                      Float32  E      \n",
       "         dec_pmra_corr                          Float32  E      \n",
       "         dec_pmdec_corr                         Float32  E      \n",
       "         parallax_pmra_corr                     Float32  E      \n",
       "         parallax_pmdec_corr                    Float32  E      \n",
       "         pmra_pmdec_corr                        Float32  E      \n",
       "         astrometric_n_obs_al                   Int16    I      \n",
       "         astrometric_n_obs_ac                   Int16    I      \n",
       "         astrometric_n_good_obs_al              Int16    I      \n",
       "         astrometric_n_bad_obs_al               Int16    I      \n",
       "         astrometric_gof_al                     Float32  E      \n",
       "         astrometric_chi2_al                    Float32  E      \n",
       "         astrometric_excess_noise               Float32  E      \n",
       "         astrometric_excess_noise_sig           Float32  E      \n",
       "         astrometric_params_solved              Int16    I      \n",
       "         astrometric_primary_flag               Bool     L      \n",
       "         nu_eff_used_in_astrometry              Float32  E      \n",
       "         pseudocolour                           Float32  E      \n",
       "         pseudocolour_error                     Float32  E      \n",
       "         ra_pseudocolour_corr                   Float32  E      \n",
       "         dec_pseudocolour_corr                  Float32  E      \n",
       "         parallax_pseudocolour_corr             Float32  E      \n",
       "         pmra_pseudocolour_corr                 Float32  E      \n",
       "         pmdec_pseudocolour_corr                Float32  E      \n",
       "         astrometric_matched_transits           Int16    I      \n",
       "         visibility_periods_used                Int16    I      \n",
       "         astrometric_sigma5d_max                Float32  E      \n",
       "         matched_transits                       Int16    I      \n",
       "         new_matched_transits                   Int16    I      \n",
       "         matched_transits_removed               Int16    I      \n",
       "         ipd_gof_harmonic_amplitude             Float32  E      \n",
       "         ipd_gof_harmonic_phase                 Float32  E      \n",
       "         ipd_frac_multi_peak                    Int16    I      \n",
       "         ipd_frac_odd_win                       Int16    I      \n",
       "         ruwe                                   Float32  E      \n",
       "         scan_direction_strength_k1             Float32  E      \n",
       "         scan_direction_strength_k2             Float32  E      \n",
       "         scan_direction_strength_k3             Float32  E      \n",
       "         scan_direction_strength_k4             Float32  E      \n",
       "         scan_direction_mean_k1                 Float32  E      \n",
       "         scan_direction_mean_k2                 Float32  E      \n",
       "         scan_direction_mean_k3                 Float32  E      \n",
       "         scan_direction_mean_k4                 Float32  E      \n",
       "         duplicated_source                      Bool     L      \n",
       "         phot_g_n_obs                           Int16    I      \n",
       "         phot_g_mean_flux                       Float64  D      \n",
       "         phot_g_mean_flux_error                 Float32  E      \n",
       "         phot_g_mean_flux_over_error            Float32  E      \n",
       "         phot_g_mean_mag                        Float32  E      \n",
       "         phot_bp_n_obs                          Int16    I      \n",
       "         phot_bp_mean_flux                      Float64  D      \n",
       "         phot_bp_mean_flux_error                Float32  E      \n",
       "         phot_bp_mean_flux_over_error           Float32  E      \n",
       "         phot_bp_mean_mag                       Float32  E      \n",
       "         phot_rp_n_obs                          Int16    I      \n",
       "         phot_rp_mean_flux                      Float64  D      \n",
       "         phot_rp_mean_flux_error                Float32  E      \n",
       "         phot_rp_mean_flux_over_error           Float32  E      \n",
       "         phot_rp_mean_mag                       Float32  E      \n",
       "         phot_bp_n_contaminated_transits        Int16    I      \n",
       "         phot_bp_n_blended_transits             Int16    I      \n",
       "         phot_rp_n_contaminated_transits        Int16    I      \n",
       "         phot_rp_n_blended_transits             Int16    I      \n",
       "         phot_proc_mode                         Int16    I      \n",
       "         phot_bp_rp_excess_factor               Float32  E      \n",
       "         bp_rp                                  Float32  E      \n",
       "         bp_g                                   Float32  E      \n",
       "         g_rp                                   Float32  E      \n",
       "         dr2_radial_velocity                    Float32  E      \n",
       "         dr2_radial_velocity_error              Float32  E      \n",
       "         dr2_rv_nb_transits                     Int16    I      \n",
       "         dr2_rv_template_teff                   Float32  E      \n",
       "         dr2_rv_template_logg                   Float32  E      \n",
       "         dr2_rv_template_fe_h                   Float32  E      \n",
       "         l                                      Float64  D      \n",
       "         b                                      Float64  D      \n",
       "         ecl_lon                                Float64  D      \n",
       "         ecl_lat                                Float64  D      "
      ]
     },
     "execution_count": 50,
     "metadata": {},
     "output_type": "execute_result"
    }
   ],
   "source": [
    "fits_cat[2]"
   ]
  },
  {
   "cell_type": "code",
   "execution_count": 53,
   "metadata": {},
   "outputs": [
    {
     "data": {
      "text/plain": [
       "428398-element Array{Float64,1}:\n",
       " 54.60807785430664\n",
       " 54.62130429391185\n",
       " 54.61808339329758\n",
       " 54.61533363112482\n",
       " 54.49755241882835\n",
       " 54.50545312096374\n",
       " 54.51241063987928\n",
       " 54.51820205392629\n",
       " 54.535318802459095\n",
       " 54.523188407313405\n",
       " 54.52053029632939\n",
       " 54.53459845454855\n",
       " 54.5347198501141\n",
       "  ⋮\n",
       " 54.555185190804096\n",
       " 54.49044562836873\n",
       " 54.49197526223143\n",
       " 54.51242248782903\n",
       " 54.51866766648344\n",
       " 54.52557394187002\n",
       " 54.50759450185543\n",
       " 54.52228916068333\n",
       " 54.52779733692931\n",
       " 54.52561953702783\n",
       " 54.51912922244176\n",
       " 54.538591123459994"
      ]
     },
     "execution_count": 53,
     "metadata": {},
     "output_type": "execute_result"
    }
   ],
   "source": [
    "# Read a column from the table\n",
    "read(fits_cat[2], \"b\")"
   ]
  },
  {
   "cell_type": "code",
   "execution_count": 54,
   "metadata": {},
   "outputs": [
    {
     "data": {
      "text/plain": [
       "Array{Float64,1}"
      ]
     },
     "execution_count": 54,
     "metadata": {},
     "output_type": "execute_result"
    }
   ],
   "source": [
    "col = read(fits_cat[2], \"l\");\n",
    "typeof(col)"
   ]
  },
  {
   "cell_type": "code",
   "execution_count": 60,
   "metadata": {},
   "outputs": [],
   "source": [
    "# Get the column names of the catalog\n",
    "colnames = FITSIO.colnames(fits_cat[2]);"
   ]
  },
  {
   "cell_type": "code",
   "execution_count": 61,
   "metadata": {},
   "outputs": [
    {
     "data": {
      "text/plain": [
       "true"
      ]
     },
     "execution_count": 61,
     "metadata": {},
     "output_type": "execute_result"
    }
   ],
   "source": [
    "\"parallax\" in colnames"
   ]
  },
  {
   "cell_type": "code",
   "execution_count": 49,
   "metadata": {},
   "outputs": [
    {
     "ename": "MethodError",
     "evalue": "MethodError: no method matching read(::TableHDU)\nClosest candidates are:\n  read(::TableHDU, !Matched::String; case_sensitive) at /Users/song/.juliapro/JuliaPro_v1.4.1-1/packages/FITSIO/KYCVW/src/table.jl:503\n  read(!Matched::Base.DevNull, !Matched::Type{UInt8}) at coreio.jl:15\n  read(!Matched::IOStream) at iostream.jl:453\n  ...",
     "output_type": "error",
     "traceback": [
      "MethodError: no method matching read(::TableHDU)\nClosest candidates are:\n  read(::TableHDU, !Matched::String; case_sensitive) at /Users/song/.juliapro/JuliaPro_v1.4.1-1/packages/FITSIO/KYCVW/src/table.jl:503\n  read(!Matched::Base.DevNull, !Matched::Type{UInt8}) at coreio.jl:15\n  read(!Matched::IOStream) at iostream.jl:453\n  ...",
      "",
      "Stacktrace:",
      " [1] top-level scope at In[49]:1"
     ]
    }
   ],
   "source": [
    "# Can't read the whole table?\n",
    "cat_data = read(fits_cat[2])"
   ]
  },
  {
   "cell_type": "code",
   "execution_count": null,
   "metadata": {},
   "outputs": [],
   "source": []
  },
  {
   "cell_type": "code",
   "execution_count": null,
   "metadata": {},
   "outputs": [],
   "source": []
  }
 ],
 "metadata": {
  "kernelspec": {
   "display_name": "Julia 1.4.1",
   "language": "julia",
   "name": "julia-1.4"
  },
  "language_info": {
   "file_extension": ".jl",
   "mimetype": "application/julia",
   "name": "julia",
   "version": "1.4.1"
  }
 },
 "nbformat": 4,
 "nbformat_minor": 4
}
