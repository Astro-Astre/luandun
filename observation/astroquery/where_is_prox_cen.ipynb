{
 "cells": [
  {
   "cell_type": "code",
   "execution_count": 130,
   "metadata": {},
   "outputs": [
    {
     "name": "stdout",
     "output_type": "stream",
     "text": [
      "The autoreload extension is already loaded. To reload it, use:\n",
      "  %reload_ext autoreload\n"
     ]
    }
   ],
   "source": [
    "%matplotlib inline\n",
    "%load_ext autoreload\n",
    "%autoreload 2\n",
    "\n",
    "import os\n",
    "import sys\n",
    "import copy\n",
    "\n",
    "from datetime import datetime\n",
    "\n",
    "import numpy as np\n",
    "\n",
    "import astropy.units as u\n",
    "from astropy.time import Time\n",
    "from astropy.coordinates import SkyCoord, Distance\n",
    "\n",
    "from astroquery.gaia import Gaia\n",
    "from astroquery.simbad import Simbad\n",
    "from astroquery.vizier import Vizier\n",
    "\n",
    "import matplotlib.pyplot as plt\n",
    "from matplotlib import colors"
   ]
  },
  {
   "cell_type": "markdown",
   "metadata": {},
   "source": [
    "### Where is Proxima Centauri now"
   ]
  },
  {
   "cell_type": "code",
   "execution_count": 119,
   "metadata": {},
   "outputs": [],
   "source": [
    "proxcen_ids = Simbad.query_objectids('Proxima Centauri')\n",
    "\n",
    "proxcen_gaia_id = proxcen_ids[\n",
    "    np.asarray(['Gaia' in name[0] for name in proxcen_ids])][0][0]\n",
    "\n",
    "job = Gaia.launch_job(\n",
    "    \"select top 1 * from gaiadr2.gaia_source where source_id = {:s}\".format(\n",
    "        proxcen_gaia_id.split()[2]))"
   ]
  },
  {
   "cell_type": "code",
   "execution_count": 120,
   "metadata": {},
   "outputs": [],
   "source": [
    "proxcen_gaia_dr2 = job.get_results()\n",
    "\n",
    "# Proper motion from Gaia DR2\n",
    "pm_ra_proxcen = u.Quantity(proxcen_gaia_dr2['pmra'])[0]\n",
    "pm_dec_proxcen = u.Quantity(proxcen_gaia_dr2['pmdec'])[0]\n",
    "\n",
    "# Distance in unit of pc from Gaia DR2 parallax\n",
    "dist_proxcen = Distance(parallax=proxcen_gaia_dr2['parallax'][0] * u.mas)"
   ]
  },
  {
   "cell_type": "markdown",
   "metadata": {},
   "source": [
    "#### Starting from J2000.0 (Simbad)"
   ]
  },
  {
   "cell_type": "code",
   "execution_count": 139,
   "metadata": {},
   "outputs": [
    {
     "name": "stdout",
     "output_type": "stream",
     "text": [
      "<SkyCoord (ICRS): (ra, dec, distance) in (deg, deg, pc)\n",
      "    (217.42893792, -62.67949167, 1.30123556)\n",
      " (pm_ra_cosdec, pm_dec, radial_velocity) in (mas / yr, mas / yr, km / s)\n",
      "    (-3781.30594097, 769.76565335, -5.38929096e-16)>\n",
      "<SkyCoord (ICRS): (ra, dec, distance) in (deg, deg, pc)\n",
      "    (217.38246694, -62.67514144, 1.30123563)\n",
      " (pm_ra, pm_dec, radial_velocity) in (mas / yr, mas / yr, km / s)\n",
      "    (-8236.29858075, 772.49009358, 0.00904397)>\n"
     ]
    }
   ],
   "source": [
    "# Simbad record to get J2000.0 RA, Dec\n",
    "proxcen_simbad = Simbad.query_object('Proxima Centauri')\n",
    "\n",
    "j2000_year = Time('2000.0', format='decimalyear')\n",
    "\n",
    "proxcen_coord_j2000 = SkyCoord(\n",
    "    proxcen_simbad['RA'][0] + ' ' + proxcen_simbad['DEC'][0], unit=(u.hourangle, u.deg), \n",
    "    distance=dist_proxcen, pm_ra_cosdec=pm_ra_proxcen, pm_dec=pm_dec_proxcen,\n",
    "    frame='icrs', obstime=j2000_year)\n",
    "\n",
    "proxcen_coord_now = proxcen_coord_j2000.apply_space_motion(\n",
    "    new_obstime=Time(datetime.utcnow()))\n",
    "\n",
    "print(proxcen_coord_j2000)\n",
    "print(proxcen_coord_now)"
   ]
  },
  {
   "cell_type": "markdown",
   "metadata": {},
   "source": [
    "#### Starting from J2015.5 (Gaia DR2)"
   ]
  },
  {
   "cell_type": "code",
   "execution_count": 145,
   "metadata": {},
   "outputs": [
    {
     "name": "stdout",
     "output_type": "stream",
     "text": [
      "<SkyCoord (ICRS): (ra, dec, distance) in (deg, deg, pc)\n",
      "    (217.39346574, -62.6761821, 1.30123556)\n",
      " (pm_ra_cosdec, pm_dec, radial_velocity) in (mas / yr, mas / yr, km / s)\n",
      "    (-3781.30594097, 769.76565335, 0.)>\n",
      "<SkyCoord (ICRS): (ra, dec, distance) in (deg, deg, pc)\n",
      "    (217.38246259, -62.67515347, 1.30123556)\n",
      " (pm_ra, pm_dec, radial_velocity) in (mas / yr, mas / yr, km / s)\n",
      "    (-8237.22724291, 770.4107708, 0.00308636)>\n"
     ]
    }
   ],
   "source": [
    "j2015 = Time(proxcen_gaia_dr2['ref_epoch'][0], format='decimalyear')\n",
    "\n",
    "proxcen_coord_j2015 = SkyCoord(\n",
    "    ra=u.Quantity(proxcen_gaia_dr2['ra'])[0],\n",
    "    dec=u.Quantity(proxcen_gaia_dr2['dec'])[0],\n",
    "    distance=dist_proxcen, \n",
    "    pm_ra_cosdec=pm_ra_proxcen, pm_dec=pm_dec_proxcen,\n",
    "    obstime=j2015)\n",
    "    \n",
    "proxcen_coord_now = proxcen_coord_j2015.apply_space_motion(\n",
    "    new_obstime=Time(datetime.utcnow()))\n",
    "\n",
    "print(proxcen_coord_j2015)\n",
    "print(proxcen_coord_now)"
   ]
  }
 ],
 "metadata": {
  "kernelspec": {
   "display_name": "Python 3",
   "language": "python",
   "name": "python3"
  },
  "language_info": {
   "codemirror_mode": {
    "name": "ipython",
    "version": 3
   },
   "file_extension": ".py",
   "mimetype": "text/x-python",
   "name": "python",
   "nbconvert_exporter": "python",
   "pygments_lexer": "ipython3",
   "version": "3.7.7"
  }
 },
 "nbformat": 4,
 "nbformat_minor": 4
}
