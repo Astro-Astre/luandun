{
 "cells": [
  {
   "cell_type": "code",
   "execution_count": 1,
   "metadata": {},
   "outputs": [],
   "source": [
    "%matplotlib inline\n",
    "%load_ext autoreload\n",
    "%autoreload 2\n",
    "\n",
    "import os\n",
    "import sys\n",
    "import copy\n",
    "import inspect\n",
    "import warnings\n",
    "import cProfile\n",
    "\n",
    "from astropy.table import Table, Column, vstack\n",
    "\n",
    "import numpy as np \n",
    "\n",
    "import matplotlib.pyplot as plt\n",
    "import matplotlib.patches as patches\n",
    "from matplotlib.patches import Circle\n",
    "from matplotlib.patches import Polygon as mpl_polygon\n",
    "from matplotlib.collections import PatchCollection\n",
    "\n",
    "import palettable\n",
    "color_fancy = palettable.wesanderson.Mendl_4.mpl_colors\n",
    "color_bins = palettable.cartocolors.qualitative.Bold_4_r.mpl_colors"
   ]
  },
  {
   "cell_type": "code",
   "execution_count": 2,
   "metadata": {},
   "outputs": [],
   "source": [
    "from shapely.geometry import Point, MultiPoint, Polygon\n",
    "from shapely.geometry import asMultiPoint, asPolygon\n",
    "from shapely.ops import unary_union, cascaded_union\n",
    "from shapely import wkb"
   ]
  },
  {
   "cell_type": "code",
   "execution_count": 3,
   "metadata": {},
   "outputs": [],
   "source": [
    "def get_decam_footprints(ra_ini, dec_ini, ra_n=12, dec_n=2, rad=1.1, ra_sep=0.55, dec_sep=2.0):\n",
    "    \"\"\"Get the DECam footprints.\"\"\"\n",
    "    decam_fps = []\n",
    "    for ii in np.arange(ra_n):\n",
    "        for jj in np.arange(dec_n):\n",
    "            ra = ra_ini + ii * ra_sep\n",
    "            dec = dec_ini + jj * dec_sep\n",
    "            decam_fps.append(Circle((ra, dec), rad))\n",
    "    \n",
    "    return decam_fps"
   ]
  },
  {
   "cell_type": "markdown",
   "metadata": {},
   "source": [
    "### Simple version\n",
    "\n",
    "* Each survey region is represented as a \"box\" in (RA, Dec)\n",
    "* Just overplot a few of them together.\n",
    "\n",
    "#### Footprints of different surveys\n",
    "\n",
    "* Footprints of GAMA survey comes from [here](http://www.gama-survey.org/)\n",
    "* Footprints of HSC survey can be found in the [project proposal](https://hsc.mtk.nao.ac.jp/ssp/wp-content/uploads/2016/05/hsc_ssp_rv_jan13.pdf)\n",
    "* Footprints of KiDS survey can be found [here](http://kids.strw.leidenuniv.nl/overview.php)\n",
    "* Survey tiles for KiDS can be found [here](http://kids.strw.leidenuniv.nl/DR4/data_table.php)\n",
    "    - OmegaCAM@VST has a 1x1 deg^2 field of view\n",
    "\n",
    "#### HSC S19A coverage\n",
    "\n",
    "* We also use the detailed tract-patch information from S19A to figure out the current HSC coverage. \n",
    "* The `s19a_wide_mosaic.fits` catalog is not in public, please contact me.\n",
    "* We use the `Shapely` library to deal with the geometry of the survey. \n",
    "    - `pip install shapely`\n",
    "* Current HSC coverages in the Spring and Fall fields are estimated for each band."
   ]
  },
  {
   "cell_type": "markdown",
   "metadata": {},
   "source": [
    "#### Figure out the S19A HSC coverage\n",
    "\n",
    "* This is slow, but you only need to do this once; also you can directly use the saved `.npy` files"
   ]
  },
  {
   "cell_type": "code",
   "execution_count": 168,
   "metadata": {},
   "outputs": [
    {
     "name": "stdout",
     "output_type": "stream",
     "text": [
      "117686 79755\n",
      "22722 22833 24739 23370 24022\n",
      "17037 18026 13276 17267 14149\n"
     ]
    }
   ],
   "source": [
    "s19a_mosaic = Table.read('/Users/song/Downloads/s19a_wide_mosaic.fits')\n",
    "\n",
    "spring_mask = (\n",
    "    (s19a_mosaic['ra2000'] > 110) & (s19a_mosaic['ra2000'] < 250) & \n",
    "    (s19a_mosaic['dec2000'] < 20) & (s19a_mosaic['dec2000'] > -20)\n",
    ")\n",
    "\n",
    "fall_mask = (\n",
    "    ((s19a_mosaic['ra2000'] < 50) | (s19a_mosaic['ra2000'] > 320)) & \n",
    "    (s19a_mosaic['dec2000'] < 10) & (s19a_mosaic['dec2000'] > -10)\n",
    ")\n",
    "\n",
    "print(spring_mask.sum(), fall_mask.sum())\n",
    "\n",
    "s19a_g1 = s19a_mosaic[(s19a_mosaic['filter01'] == \"HSC-G\") & spring_mask]\n",
    "s19a_g2 = s19a_mosaic[(s19a_mosaic['filter01'] == \"HSC-G\") & fall_mask]\n",
    "\n",
    "s19a_r1 = s19a_mosaic[(s19a_mosaic['filter01'] == \"HSC-R\") & spring_mask]\n",
    "s19a_r2 = s19a_mosaic[(s19a_mosaic['filter01'] == \"HSC-R\") & fall_mask]\n",
    "\n",
    "s19a_i1 = s19a_mosaic[(s19a_mosaic['filter01'] == \"HSC-I\") & spring_mask]\n",
    "s19a_i2 = s19a_mosaic[(s19a_mosaic['filter01'] == \"HSC-I\") & fall_mask]\n",
    "\n",
    "s19a_z1 = s19a_mosaic[(s19a_mosaic['filter01'] == \"HSC-Z\") & spring_mask]\n",
    "s19a_z2 = s19a_mosaic[(s19a_mosaic['filter01'] == \"HSC-Z\") & fall_mask]\n",
    "\n",
    "s19a_y1 = s19a_mosaic[(s19a_mosaic['filter01'] == \"HSC-Y\") & spring_mask]\n",
    "s19a_y2 = s19a_mosaic[(s19a_mosaic['filter01'] == \"HSC-Y\") & fall_mask]\n",
    "\n",
    "print(len(s19a_g1), len(s19a_r1), len(s19a_i1), len(s19a_z1), len(s19a_y1))\n",
    "print(len(s19a_g2), len(s19a_r2), len(s19a_i2), len(s19a_z2), len(s19a_y2))"
   ]
  },
  {
   "cell_type": "code",
   "execution_count": 234,
   "metadata": {},
   "outputs": [],
   "source": [
    "s19a_g2['llcra'][(s19a_g2['llcra'] >= 300)] = s19a_g2['llcra'][(s19a_g2['llcra'] >= 300)] - 360.\n",
    "s19a_g2['urcra'][(s19a_g2['urcra'] >= 300)] = s19a_g2['urcra'][(s19a_g2['urcra'] >= 300)] - 360.\n",
    "s19a_g2['ulcra'][(s19a_g2['ulcra'] >= 300)] = s19a_g2['ulcra'][(s19a_g2['ulcra'] >= 300)] - 360.\n",
    "s19a_g2['lrcra'][(s19a_g2['lrcra'] >= 300)] = s19a_g2['lrcra'][(s19a_g2['lrcra'] >= 300)] - 360.\n",
    "\n",
    "s19a_r2['llcra'][(s19a_r2['llcra'] >= 300)] = s19a_r2['llcra'][(s19a_r2['llcra'] >= 300)] - 360.\n",
    "s19a_r2['urcra'][(s19a_r2['urcra'] >= 300)] = s19a_r2['urcra'][(s19a_r2['urcra'] >= 300)] - 360.\n",
    "s19a_r2['ulcra'][(s19a_r2['ulcra'] >= 300)] = s19a_r2['ulcra'][(s19a_r2['ulcra'] >= 300)] - 360.\n",
    "s19a_r2['lrcra'][(s19a_r2['lrcra'] >= 300)] = s19a_r2['lrcra'][(s19a_r2['lrcra'] >= 300)] - 360.\n",
    "\n",
    "s19a_i2['llcra'][(s19a_i2['llcra'] >= 300)] = s19a_i2['llcra'][(s19a_i2['llcra'] >= 300)] - 360.\n",
    "s19a_i2['urcra'][(s19a_i2['urcra'] >= 300)] = s19a_i2['urcra'][(s19a_i2['urcra'] >= 300)] - 360.\n",
    "s19a_i2['ulcra'][(s19a_i2['ulcra'] >= 300)] = s19a_i2['ulcra'][(s19a_i2['ulcra'] >= 300)] - 360.\n",
    "s19a_i2['lrcra'][(s19a_i2['lrcra'] >= 300)] = s19a_i2['lrcra'][(s19a_i2['lrcra'] >= 300)] - 360.\n",
    "\n",
    "s19a_z2['llcra'][(s19a_z2['llcra'] >= 300)] = s19a_z2['llcra'][(s19a_z2['llcra'] >= 300)] - 360.\n",
    "s19a_z2['urcra'][(s19a_z2['urcra'] >= 300)] = s19a_z2['urcra'][(s19a_z2['urcra'] >= 300)] - 360.\n",
    "s19a_z2['ulcra'][(s19a_z2['ulcra'] >= 300)] = s19a_z2['ulcra'][(s19a_z2['ulcra'] >= 300)] - 360.\n",
    "s19a_z2['lrcra'][(s19a_z2['lrcra'] >= 300)] = s19a_z2['lrcra'][(s19a_z2['lrcra'] >= 300)] - 360.\n",
    "\n",
    "s19a_y2['llcra'][(s19a_y2['llcra'] >= 300)] = s19a_y2['llcra'][(s19a_y2['llcra'] >= 300)] - 360.\n",
    "s19a_y2['urcra'][(s19a_y2['urcra'] >= 300)] = s19a_y2['urcra'][(s19a_y2['urcra'] >= 300)] - 360.\n",
    "s19a_y2['ulcra'][(s19a_y2['ulcra'] >= 300)] = s19a_y2['ulcra'][(s19a_y2['ulcra'] >= 300)] - 360.\n",
    "s19a_y2['lrcra'][(s19a_y2['lrcra'] >= 300)] = s19a_y2['lrcra'][(s19a_y2['lrcra'] >= 300)] - 360."
   ]
  },
  {
   "cell_type": "code",
   "execution_count": 177,
   "metadata": {},
   "outputs": [],
   "source": [
    "s19a_g1_poly = cascaded_union(\n",
    "    [Polygon([(patch['llcra'], patch['llcdec']), (patch['ulcra'], patch['ulcdec']), \n",
    "              (patch['urcra'], patch['urcdec']), (patch['lrcra'], patch['lrcdec'])])\n",
    "     for patch in s19a_g1])\n",
    "\n",
    "s19a_r1_poly = cascaded_union(\n",
    "    [Polygon([(patch['llcra'], patch['llcdec']), (patch['ulcra'], patch['ulcdec']), \n",
    "              (patch['urcra'], patch['urcdec']), (patch['lrcra'], patch['lrcdec'])])\n",
    "     for patch in s19a_r1])\n",
    "\n",
    "s19a_i1_poly = cascaded_union(\n",
    "    [Polygon([(patch['llcra'], patch['llcdec']), (patch['ulcra'], patch['ulcdec']), \n",
    "              (patch['urcra'], patch['urcdec']), (patch['lrcra'], patch['lrcdec'])])\n",
    "     for patch in s19a_i1])\n",
    "\n",
    "s19a_z1_poly = cascaded_union(\n",
    "    [Polygon([(patch['llcra'], patch['llcdec']), (patch['ulcra'], patch['ulcdec']), \n",
    "              (patch['urcra'], patch['urcdec']), (patch['lrcra'], patch['lrcdec'])])\n",
    "     for patch in s19a_z1])\n",
    "\n",
    "s19a_y1_poly = cascaded_union(\n",
    "    [Polygon([(patch['llcra'], patch['llcdec']), (patch['ulcra'], patch['ulcdec']), \n",
    "              (patch['urcra'], patch['urcdec']), (patch['lrcra'], patch['lrcdec'])])\n",
    "     for patch in s19a_y1])"
   ]
  },
  {
   "cell_type": "code",
   "execution_count": 235,
   "metadata": {},
   "outputs": [],
   "source": [
    "s19a_g2_poly = cascaded_union(\n",
    "    [Polygon([(patch['llcra'], patch['llcdec']), (patch['ulcra'], patch['ulcdec']), \n",
    "              (patch['urcra'], patch['urcdec']), (patch['lrcra'], patch['lrcdec'])])\n",
    "     for patch in s19a_g2])\n",
    "\n",
    "s19a_r2_poly = cascaded_union(\n",
    "    [Polygon([(patch['llcra'], patch['llcdec']), (patch['ulcra'], patch['ulcdec']), \n",
    "              (patch['urcra'], patch['urcdec']), (patch['lrcra'], patch['lrcdec'])])\n",
    "     for patch in s19a_r2])\n",
    "\n",
    "s19a_i2_poly = cascaded_union(\n",
    "    [Polygon([(patch['llcra'], patch['llcdec']), (patch['ulcra'], patch['ulcdec']), \n",
    "              (patch['urcra'], patch['urcdec']), (patch['lrcra'], patch['lrcdec'])])\n",
    "     for patch in s19a_i2])\n",
    "\n",
    "s19a_z2_poly = cascaded_union(\n",
    "    [Polygon([(patch['llcra'], patch['llcdec']), (patch['ulcra'], patch['ulcdec']), \n",
    "              (patch['urcra'], patch['urcdec']), (patch['lrcra'], patch['lrcdec'])])\n",
    "     for patch in s19a_z2])\n",
    "\n",
    "s19a_y2_poly = cascaded_union(\n",
    "    [Polygon([(patch['llcra'], patch['llcdec']), (patch['ulcra'], patch['ulcdec']), \n",
    "              (patch['urcra'], patch['urcdec']), (patch['lrcra'], patch['lrcdec'])])\n",
    "     for patch in s19a_y2])"
   ]
  },
  {
   "cell_type": "code",
   "execution_count": 250,
   "metadata": {},
   "outputs": [],
   "source": [
    "# 1 means the Spring field\n",
    "# 2 means the Fall field\n",
    "hsc_g1_reg = np.asarray(list(s19a_g1_poly.exterior.coords))\n",
    "hsc_g2_reg_a = np.asarray(list(s19a_g2_poly[0].exterior.coords))\n",
    "hsc_g2_reg_b = np.asarray(list(s19a_g2_poly[1].exterior.coords))\n",
    "\n",
    "hsc_r1_reg = np.asarray(list(s19a_r1_poly.exterior.coords))\n",
    "hsc_r2_reg_a = np.asarray(list(s19a_r2_poly[0].exterior.coords))\n",
    "hsc_r2_reg_b = np.asarray(list(s19a_r2_poly[1].exterior.coords))\n",
    "\n",
    "hsc_i1_reg = np.asarray(list(s19a_i1_poly.exterior.coords))\n",
    "hsc_i2_reg_a = np.asarray(list(s19a_i2_poly[0].exterior.coords))\n",
    "hsc_i2_reg_b = np.asarray(list(s19a_i2_poly[1].exterior.coords))\n",
    "hsc_i2_reg_c = np.asarray(list(s19a_i2_poly[2].exterior.coords))\n",
    "\n",
    "hsc_z1_reg = np.asarray(list(s19a_z1_poly.exterior.coords))\n",
    "hsc_z2_reg_a = np.asarray(list(s19a_z2_poly[0].exterior.coords))\n",
    "hsc_z2_reg_b = np.asarray(list(s19a_z2_poly[1].exterior.coords))\n",
    "\n",
    "hsc_y1_reg = np.asarray(list(s19a_y1_poly.exterior.coords))\n",
    "hsc_y2_reg_a = np.asarray(list(s19a_y2_poly[0].exterior.coords))\n",
    "hsc_y2_reg_b = np.asarray(list(s19a_y2_poly[1].exterior.coords))\n",
    "hsc_y2_reg_c = np.asarray(list(s19a_y2_poly[2].exterior.coords))"
   ]
  },
  {
   "cell_type": "code",
   "execution_count": 263,
   "metadata": {},
   "outputs": [],
   "source": [
    "hsc_footprints = {\n",
    "    'g1': hsc_g1_reg, 'g2_a': hsc_g2_reg_a, 'g2_b': hsc_g2_reg_b,\n",
    "    'r1': hsc_r1_reg, 'r2_a': hsc_r2_reg_a, 'r2_b': hsc_r2_reg_b,\n",
    "    'i1': hsc_i1_reg, 'i2_a': hsc_i2_reg_a, 'i2_b': hsc_i2_reg_b, 'i2_c': hsc_i2_reg_c,\n",
    "    'z1': hsc_z1_reg, 'z2_a': hsc_z2_reg_a, 'z2_b': hsc_z2_reg_b,\n",
    "    'y1': hsc_y1_reg, 'y2_a': hsc_y2_reg_a, 'y2_b': hsc_y2_reg_b, 'y2_c': hsc_y2_reg_c,\n",
    "}\n",
    "\n",
    "np.save('s19a_spring_fall_footprints.npy', hsc_footprints, allow_pickle=True)"
   ]
  },
  {
   "cell_type": "markdown",
   "metadata": {},
   "source": [
    "#### Load the saved npy files for HSC footprints"
   ]
  },
  {
   "cell_type": "code",
   "execution_count": 24,
   "metadata": {},
   "outputs": [],
   "source": [
    "# See: https://stackoverflow.com/questions/30811918/saving-dictionary-of-numpy-arrays\n",
    "hsc_footprints = np.load('s19a_spring_fall_footprints.npy', allow_pickle=True)[()]"
   ]
  },
  {
   "cell_type": "code",
   "execution_count": 25,
   "metadata": {},
   "outputs": [],
   "source": [
    "# (RA, Dec) ranges for HSC\n",
    "# Wide\n",
    "# HSC spring\n",
    "hsc_1_arr = np.asarray([[120.5, -3.0], [120.5, 6.0], [227.0, 6.0], [227.0, -3.0]])\n",
    "\n",
    "# HSC fall\n",
    "hsc_2_arr = np.asarray([[-31.0, -2.0], [-31.0, 8.0], [42.0, 8.0], [42.0, -7.5], [27.30, -7.5], [27.30, -2.0]])\n",
    "\n",
    "# HSC Deep fields and UDeep fields\n",
    "hsc_cosmos = np.asarray([[152.2, 0.8], [152.2, 3.6], [148.6, 3.6], [148.6, 0.8]])\n",
    "hsc_deep2 = np.asarray([[354.0 - 360.0, -1.2], [354.0 - 360., 1.0], \n",
    "                        [350.5 - 360., 1.0], [350.5 - 360., -1.2]])\n",
    "hsc_xmm = np.asarray([[38.0, -6.0], [38.0, -3.5], [33.8, -3.5], [33.8, -6.0]])"
   ]
  },
  {
   "cell_type": "markdown",
   "metadata": {},
   "source": [
    "#### GAMA footprints\n",
    "\n",
    "* Very rough boxes"
   ]
  },
  {
   "cell_type": "code",
   "execution_count": 8,
   "metadata": {},
   "outputs": [],
   "source": [
    "g02_arr = np.asarray([[30.2, -10.25], [30.2, -3.72], [38.8, -3.72], [38.8, -10.25]])\n",
    "g09_arr = np.asarray([[129.0, -2.0], [129.0, 3.0], [141.0, 3.0], [141.0, -2.0]])\n",
    "g12_arr = np.asarray([[174.0, -3.0], [174.0, 2.0], [186.0, 2.0], [186.0, -3.0]])\n",
    "g15_arr = np.asarray([[211.5, -2.0], [211.5, 3.0], [223.5, 3.0], [223.5, -2.0]])"
   ]
  },
  {
   "cell_type": "markdown",
   "metadata": {},
   "source": [
    "#### KiDS footprints\n",
    "\n",
    "* Very rough boxes"
   ]
  },
  {
   "cell_type": "code",
   "execution_count": 9,
   "metadata": {},
   "outputs": [],
   "source": [
    "kids_n_arr = np.asarray([[156.0, -5.0], [156.0, 4.0], [238.0, 4.0], [238.0, -3.0], [225.0, -3.0], [225.0, -5.0]])\n",
    "kids_w2_arr = np.asarray([[128.5, -2.0], [128.5, 3.0], [141.5, 3.0], [141.5, -2.0]])\n",
    "kids_d2_arr = np.asarray([[149.6, 1.7], [149.6, 2.7], [151.6, 2.7], [151.6, 1.7]])"
   ]
  },
  {
   "cell_type": "markdown",
   "metadata": {},
   "source": [
    "#### Rough footprint of Merian survey"
   ]
  },
  {
   "cell_type": "code",
   "execution_count": 10,
   "metadata": {},
   "outputs": [
    {
     "name": "stdout",
     "output_type": "stream",
     "text": [
      "470.4\n"
     ]
    }
   ],
   "source": [
    "merian_1 = np.asarray([\n",
    "    [128.0, -2.4], [128.0, 3.2], [142.0, 3.2], [142.0, -2.4]\n",
    "])\n",
    "\n",
    "merian_1_poly = Polygon(merian_1)\n",
    "\n",
    "merian_2 = np.asarray([\n",
    "    [155.0, -2.4], [155.0, 3.2], [225.0, 3.2], [225.0, -2.4]\n",
    "])\n",
    "\n",
    "merian_2_poly = Polygon(merian_2)\n",
    "\n",
    "\n",
    "print(merian_1_poly.area + merian_2_poly.area)\n",
    "\n",
    "merian_3 = np.asarray(\n",
    "    [[153.0, 0.6], [153.0, 3.8], [147.8, 3.8], [147.8, 0.6]])"
   ]
  },
  {
   "cell_type": "code",
   "execution_count": 11,
   "metadata": {},
   "outputs": [
    {
     "data": {
      "text/plain": [
       "432.79999999999995"
      ]
     },
     "execution_count": 11,
     "metadata": {},
     "output_type": "execute_result"
    }
   ],
   "source": [
    "merian_4 = np.asarray([\n",
    "    [-30.0, -1.5], [-30.0, 6.5], [-8.0, 6.5], [-8.0, 2.6],\n",
    "    [40.0, 2.6], [40.0, -6.5], [28.0, -6.5], [28.0, -1.5]\n",
    "])\n",
    "\n",
    "merian_4_poly = Polygon(merian_4)\n",
    "\n",
    "merian_4_poly.area"
   ]
  },
  {
   "cell_type": "markdown",
   "metadata": {},
   "source": [
    "### Generate the plot\n",
    "\n",
    "* Given the current tiling strategy, we can afford 48 x 12 pointings"
   ]
  },
  {
   "cell_type": "code",
   "execution_count": 62,
   "metadata": {},
   "outputs": [
    {
     "data": {
      "image/png": "[encoded data removed]",
      "text/plain": [
       "<Figure size 1080x1044 with 2 Axes>"
      ]
     },
     "metadata": {},
     "output_type": "display_data"
    }
   ],
   "source": [
    "fig = plt.figure(figsize=(15, 14.5))\n",
    "fig.subplots_adjust(left=0.11, right=0.995, bottom=0.09, top=0.995, wspace=0.00, hspace=0.225)\n",
    "\n",
    "# --- Spring Field --- #\n",
    "ax1 = fig.add_subplot(211)\n",
    "\n",
    "# HSC Wide\n",
    "ax1.fill(hsc_1_arr[:, 0], hsc_1_arr[:, 1], facecolor='grey', edgecolor='k', linewidth=6, alpha=0.4,\n",
    "         label=r'$\\rm HSC\\ Wide$')\n",
    "\n",
    "ax1.fill(hsc_footprints['g1'][:, 0], hsc_footprints['g1'][:, 1], facecolor='grey', edgecolor='none', \n",
    "         linewidth=2, alpha=0.1, label='__no_label__', rasterized=True)\n",
    "\n",
    "ax1.fill(hsc_footprints['r1'][:, 0], hsc_footprints['r1'][:, 1], facecolor='grey', edgecolor='none', \n",
    "         linewidth=2, alpha=0.1, label='__no_label__', rasterized=True)\n",
    "\n",
    "ax1.fill(hsc_footprints['i1'][:, 0], hsc_footprints['i1'][:, 1], facecolor='grey', edgecolor='none', \n",
    "         linewidth=2, alpha=0.1, label='__no_label__', rasterized=True)\n",
    "\n",
    "ax1.fill(hsc_footprints['z1'][:, 0], hsc_footprints['z1'][:, 1], facecolor='grey', edgecolor='none', \n",
    "         linewidth=2, alpha=0.1, label='__no_label__', rasterized=True)\n",
    "\n",
    "ax1.fill(hsc_footprints['y1'][:, 0], hsc_footprints['y1'][:, 1], facecolor='grey', edgecolor='none', \n",
    "         linewidth=2, alpha=0.1, label='__no_label__', rasterized=True)\n",
    "\n",
    "\n",
    "# HSC Deep\n",
    "ax1.fill(hsc_cosmos[:, 0], hsc_cosmos[:, 1], facecolor='forestgreen', edgecolor='g', linewidth=6, alpha=0.6,\n",
    "         label=r'$\\rm HSC\\ Deep$')\n",
    "\n",
    "# KiDS\n",
    "ax1.fill(kids_n_arr[:, 0], kids_n_arr[:, 1], facecolor='skyblue', edgecolor='dodgerblue', linewidth=6, alpha=0.6,\n",
    "         label=r'$\\rm KiDS$')\n",
    "\n",
    "ax1.fill(kids_w2_arr[:, 0], kids_w2_arr[:, 1], facecolor='skyblue', edgecolor='dodgerblue', linewidth=6, alpha=0.6,\n",
    "         label='__no_label__')\n",
    "\n",
    "# GAMA\n",
    "ax1.fill(g09_arr[:, 0], g09_arr[:, 1], facecolor='orange', edgecolor='gold', linewidth=6, alpha=0.5,\n",
    "         label=r'$\\rm GAMA$')\n",
    "\n",
    "ax1.fill(g12_arr[:, 0], g12_arr[:, 1], facecolor='orange', edgecolor='gold', linewidth=6, alpha=0.5,\n",
    "         label='__no_label__')\n",
    "\n",
    "ax1.fill(g15_arr[:, 0], g15_arr[:, 1], facecolor='orange', edgecolor='gold', linewidth=6, alpha=0.5,\n",
    "         label='__no_label__')\n",
    "\n",
    "\n",
    "# Merian survey\n",
    "ax1.fill(merian_1[:, 0], merian_1[:, 1], facecolor='none', edgecolor='orangered', linewidth=8.0, alpha=0.8,\n",
    "         label=r'$\\rm Merian$')\n",
    "\n",
    "ax1.fill(merian_2[:, 0], merian_2[:, 1], facecolor='none', edgecolor='orangered', linewidth=8.0, alpha=0.8,\n",
    "         label='__no_label__')\n",
    "\n",
    "ax1.fill(merian_3[:, 0], merian_3[:, 1], facecolor='none', edgecolor='maroon', linewidth=8.0, alpha=0.8,\n",
    "         label=r'\\rm Merian\\ Deep')\n",
    "\n",
    "merian1_a = PatchCollection(\n",
    "    get_decam_footprints(128.0, -1.5, ra_n=28, dec_n=3, rad=1.1, ra_sep=0.55, dec_sep=2.0),\n",
    "    alpha=0.4, facecolor='none', edgecolor='g', linewidth=1.5, zorder=100 \n",
    ")\n",
    "\n",
    "merian1_b = PatchCollection(\n",
    "    get_decam_footprints(154.0, -1.5, ra_n=(44 * 3), dec_n=3, rad=1.1, ra_sep=0.55, dec_sep=2.0),\n",
    "    alpha=0.4, facecolor='none', edgecolor='g', linewidth=1.5, zorder=100 \n",
    ")\n",
    "\n",
    "merian1_c = PatchCollection(\n",
    "    get_decam_footprints(198.0, -1.0, ra_n=48, dec_n=2, rad=1.1, ra_sep=0.55, dec_sep=2.0),\n",
    "    alpha=0.4, facecolor='none', edgecolor='g', linewidth=1.5, zorder=100 \n",
    ")\n",
    "\n",
    "#ax1.add_collection(merian1_a)\n",
    "#ax1.add_collection(merian1_b)\n",
    "#ax1.add_collection(merian1_c)\n",
    "\n",
    "ax1.set_ylim(-12.5, 6.8)\n",
    "ax1.set_xlim(116, 239)\n",
    "\n",
    "ax1.text(0.09, 0.36, r'$\\rm Spring$', fontsize=55, transform=ax1.transAxes)\n",
    "\n",
    "ax1.legend(loc='lower left', fontsize=35, ncol=3)\n",
    "\n",
    "_ = ax1.set_xlabel(r'$\\rm R.A\\ [deg]$', fontsize=45)\n",
    "_ = ax1.set_ylabel(r'$\\rm Dec\\ [deg]$', fontsize=45)\n",
    "\n",
    "# --- Fall Fields --- #\n",
    "ax2 = fig.add_subplot(212)\n",
    "\n",
    "# HSC Wide\n",
    "ax2.fill(hsc_2_arr[:, 0], hsc_2_arr[:, 1], facecolor='grey', edgecolor='k', linewidth=6, alpha=0.4,\n",
    "         label=r'$\\rm HSC\\ Wide$')\n",
    "\n",
    "ax2.fill(hsc_footprints['g2_a'][:, 0], hsc_footprints['g2_a'][:, 1], facecolor='grey', edgecolor='none', \n",
    "         linewidth=2, alpha=0.1, label='__no_label__', rasterized=True)\n",
    "ax2.fill(hsc_footprints['g2_b'][:, 0], hsc_footprints['g2_b'][:, 1], facecolor='grey', edgecolor='none', \n",
    "         linewidth=2, alpha=0.1, label='__no_label__', rasterized=True)\n",
    "\n",
    "ax2.fill(hsc_footprints['r2_a'][:, 0], hsc_footprints['r2_a'][:, 1], facecolor='grey', edgecolor='none', \n",
    "         linewidth=2, alpha=0.1, label='__no_label__', rasterized=True)\n",
    "ax2.fill(hsc_footprints['r2_b'][:, 0], hsc_footprints['r2_b'][:, 1], facecolor='grey', edgecolor='none', \n",
    "         linewidth=2, alpha=0.1, label='__no_label__', rasterized=True)\n",
    "\n",
    "ax2.fill(hsc_footprints['i2_a'][:, 0], hsc_footprints['i2_a'][:, 1], facecolor='grey', edgecolor='none', \n",
    "         linewidth=2, alpha=0.1, label='__no_label__', rasterized=True)\n",
    "ax2.fill(hsc_footprints['i2_b'][:, 0], hsc_footprints['i2_b'][:, 1], facecolor='grey', edgecolor='none', \n",
    "         linewidth=2, alpha=0.1, label='__no_label__', rasterized=True)\n",
    "ax2.fill(hsc_footprints['i2_c'][:, 0], hsc_footprints['i2_c'][:, 1], facecolor='grey', edgecolor='none', \n",
    "         linewidth=2, alpha=0.1, label='__no_label__', rasterized=True)\n",
    "\n",
    "ax2.fill(hsc_footprints['z2_a'][:, 0], hsc_footprints['z2_a'][:, 1], facecolor='grey', edgecolor='none', \n",
    "         linewidth=2, alpha=0.1, label='__no_label__', rasterized=True)\n",
    "ax2.fill(hsc_footprints['z2_b'][:, 0], hsc_footprints['z2_b'][:, 1], facecolor='grey', edgecolor='none', \n",
    "         linewidth=2, alpha=0.1, label='__no_label__', rasterized=True)\n",
    "\n",
    "ax2.fill(hsc_footprints['y2_a'][:, 0], hsc_footprints['y2_a'][:, 1], facecolor='grey', edgecolor='none', \n",
    "         linewidth=2, alpha=0.1, label='__no_label__', rasterized=True)\n",
    "ax2.fill(hsc_footprints['y2_b'][:, 0], hsc_footprints['y2_b'][:, 1], facecolor='grey', edgecolor='none', \n",
    "         linewidth=2, alpha=0.1, label='__no_label__', rasterized=True)\n",
    "ax2.fill(hsc_footprints['y2_c'][:, 0], hsc_footprints['y2_c'][:, 1], facecolor='grey', edgecolor='none', \n",
    "         linewidth=2, alpha=0.1, label='__no_label__', rasterized=True)\n",
    "\n",
    "\n",
    "# HSC Deep\n",
    "ax2.fill(hsc_deep2[:, 0], hsc_deep2[:, 1], facecolor='forestgreen', edgecolor='g', linewidth=6, alpha=0.6,\n",
    "         label=r'$\\rm HSC\\ Deep$')\n",
    "\n",
    "ax2.fill(hsc_xmm[:, 0], hsc_xmm[:, 1], facecolor='forestgreen', edgecolor='g', linewidth=6, alpha=0.6,\n",
    "         label='__no_label__')\n",
    "\n",
    "# GAMA\n",
    "ax2.fill(g02_arr[:, 0], g02_arr[:, 1], facecolor='orange', edgecolor='gold', linewidth=6, alpha=0.6,\n",
    "         label=r'$\\rm GAMA$')\n",
    "\n",
    "# Merian\n",
    "ax2.fill(merian_4[:, 0], merian_4[:, 1], facecolor='none', edgecolor='orangered', linewidth=8.0, alpha=0.8,\n",
    "         label=r'$\\rm Merian$')\n",
    "\n",
    "\n",
    "merian2_a = PatchCollection(\n",
    "    get_decam_footprints(-30.5, -0.3, ra_n=130, dec_n=2, rad=1.1, ra_sep=0.55, dec_sep=2.0),\n",
    "    alpha=0.4, facecolor='none', edgecolor='g', linewidth=1.5, zorder=100 \n",
    ")\n",
    "\n",
    "merian2_b = PatchCollection(\n",
    "    get_decam_footprints(-30.5, -0.3 + (2.0 * 2), ra_n=42, dec_n=2, rad=1.1, ra_sep=0.55, dec_sep=2.0),\n",
    "    alpha=0.4, facecolor='none', edgecolor='g', linewidth=1.5, zorder=100 \n",
    ")\n",
    "\n",
    "merian2_c = PatchCollection(\n",
    "    get_decam_footprints(28.0, -6.2, ra_n=24, dec_n=3, rad=1.1, ra_sep=0.55, dec_sep=2.0),\n",
    "    alpha=0.4, facecolor='none', edgecolor='g', linewidth=1.5, zorder=100 \n",
    ")\n",
    "\n",
    "#ax2.add_collection(merian2_a)\n",
    "#ax2.add_collection(merian2_b)\n",
    "#ax2.add_collection(merian2_c)\n",
    "\n",
    "ax2.legend(loc='lower left', fontsize=35, ncol=2)\n",
    "\n",
    "ax2.set_ylim(-11.5, 9.9)\n",
    "\n",
    "ax2.text(0.63, 0.13, r'$\\rm Fall$', fontsize=55, transform=ax2.transAxes)\n",
    "\n",
    "_ = ax2.set_xlabel(r'$\\rm R.A\\ [deg]$', fontsize=45)\n",
    "_ = ax2.set_ylabel(r'$\\rm Dec\\ [deg]$', fontsize=45)\n",
    "\n",
    "ax1.tick_params(axis='x', labelsize=35)\n",
    "ax1.tick_params(axis='y', labelsize=35)\n",
    "\n",
    "ax2.tick_params(axis='x', labelsize=35)\n",
    "ax2.tick_params(axis='y', labelsize=35)\n",
    "\n",
    "ax1.spines[\"bottom\"].set_linewidth(3)\n",
    "ax1.spines[\"top\"].set_linewidth(3)\n",
    "ax1.spines[\"left\"].set_linewidth(3)\n",
    "ax1.spines[\"right\"].set_linewidth(3)\n",
    "\n",
    "ax2.spines[\"bottom\"].set_linewidth(3)\n",
    "ax2.spines[\"top\"].set_linewidth(3)\n",
    "ax2.spines[\"left\"].set_linewidth(3)\n",
    "ax2.spines[\"right\"].set_linewidth(3)\n",
    "\n",
    "fig.savefig('merian_footprint.pdf', dpi=100)"
   ]
  },
  {
   "cell_type": "code",
   "execution_count": 63,
   "metadata": {},
   "outputs": [],
   "source": []
  },
  {
   "cell_type": "code",
   "execution_count": null,
   "metadata": {},
   "outputs": [],
   "source": []
  },
  {
   "cell_type": "markdown",
   "metadata": {},
   "source": [
    "### Using `Mangle` Polygon format\n",
    "\n",
    "* [The `mangle` software can be found here](https://github.com/mollyswanson/mangle)\n",
    "    - There is an old Python wrapper ['mangle.py'](https://github.com/mollyswanson/manglepy)\n",
    "* ['pymangle' by Erin Sheldon can read in and work with `Mangle` masks](https://github.com/esheldon/pymangle)\n",
    "* [Survey footprints of several wide field surveys can be found here](http://www.mpe.mpg.de/~tdwelly/erosita/multiwavelength_coverage)"
   ]
  },
  {
   "cell_type": "code",
   "execution_count": 4,
   "metadata": {},
   "outputs": [],
   "source": [
    "import pymangle"
   ]
  },
  {
   "cell_type": "code",
   "execution_count": 5,
   "metadata": {},
   "outputs": [],
   "source": [
    "m=pymangle.Mangle(\"data/boss_survey.ply\")"
   ]
  },
  {
   "cell_type": "code",
   "execution_count": 7,
   "metadata": {},
   "outputs": [
    {
     "data": {
      "text/plain": [
       "-1"
      ]
     },
     "execution_count": 7,
     "metadata": {},
     "output_type": "execute_result"
    }
   ],
   "source": [
    "m.pixelres"
   ]
  },
  {
   "cell_type": "code",
   "execution_count": null,
   "metadata": {},
   "outputs": [],
   "source": []
  }
 ],
 "metadata": {
  "kernelspec": {
   "display_name": "Python 3",
   "language": "python",
   "name": "python3"
  },
  "language_info": {
   "codemirror_mode": {
    "name": "ipython",
    "version": 3
   },
   "file_extension": ".py",
   "mimetype": "text/x-python",
   "name": "python",
   "nbconvert_exporter": "python",
   "pygments_lexer": "ipython3",
   "version": "3.7.7"
  }
 },
 "nbformat": 4,
 "nbformat_minor": 4
}
