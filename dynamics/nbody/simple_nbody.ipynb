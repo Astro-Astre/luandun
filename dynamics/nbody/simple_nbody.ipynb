{
 "cells": [
  {
   "cell_type": "code",
   "execution_count": 1,
   "metadata": {},
   "outputs": [],
   "source": [
    "%load_ext autoreload\n",
    "%autoreload 2\n",
    "%matplotlib inline\n",
    "\n",
    "import numpy as np \n",
    "\n",
    "import matplotlib.pyplot as plt"
   ]
  },
  {
   "cell_type": "markdown",
   "metadata": {},
   "source": [
    "## Simple N-body code using Python\n",
    "\n",
    "- Following the [article and code by Philip Mocz](https://medium.com/swlh/create-your-own-n-body-simulation-with-python-f417234885e9)\n",
    "- Code is available on [Github](https://github.com/pmocz/nbody-python/blob/master/nbody.py)\n"
   ]
  },
  {
   "cell_type": "code",
   "execution_count": 2,
   "metadata": {},
   "outputs": [],
   "source": [
    "# Setup the simulation\n",
    "N = 100   # Number of particles\n",
    "\n",
    "# Randomize the initial conditions\n",
    "np.random.seed(17)\n",
    "\n",
    "# Particle mass: equal mass particle\n",
    "mass = 20.0 * np.ones((N, 1)) / N   # So the total mass of the particle is 20\n",
    "\n",
    "# Random positions and velocities\n",
    "pos = np.random.randn(N, 3)\n",
    "vel = np.random.randn(N, 3)\n",
    "\n",
    "# Convert to Center-of-Mass frame\n",
    "vel -= np.mean(mass * vel, axis=0) / np.mean(mass)\n",
    "\n",
    "#The softening parameter in the code is a small number added to avoid numerical issues when 2 particles are close to each other, \n",
    "# in which case the acceleration from the ‘inverse square-law’ goes to infinity.\n",
    "softening = 0.1\n",
    "\n",
    "# Using natural's unit: gravitational constant G = 1\n",
    "G = 1.0"
   ]
  },
  {
   "cell_type": "markdown",
   "metadata": {},
   "source": [
    "### Force Calculation\n",
    "\n",
    "- Assume a system of $N$ point articles. Each has a mass, a 3-D position and velocity value.\n",
    "- Calclulate the acceleration of each particles by:\n",
    "$$\n",
    "\\mathbf{a}_{i}=G \\sum_{j \\neq i} m_{j} \\frac{\\mathbf{r}_{j}-\\mathbf{r}_{i}}{\\left|\\mathbf{r}_{j}-\\mathbf{r}_{i}\\right|^{3}}\n",
    "$$"
   ]
  },
  {
   "cell_type": "code",
   "execution_count": 3,
   "metadata": {},
   "outputs": [
    {
     "name": "stdout",
     "output_type": "stream",
     "text": [
      "(100, 1)\n",
      "(100, 100)\n"
     ]
    }
   ],
   "source": [
    "# Notice the difference here\n",
    "x = pos[:, 0:1]\n",
    "print(x.shape)\n",
    "print((x.T - x).shape)"
   ]
  },
  {
   "cell_type": "code",
   "execution_count": 4,
   "metadata": {},
   "outputs": [
    {
     "name": "stdout",
     "output_type": "stream",
     "text": [
      "(100,)\n",
      "(100,)\n"
     ]
    }
   ],
   "source": [
    "x = pos[:, 0]\n",
    "print(x.shape)\n",
    "print((x.T - x).shape)"
   ]
  },
  {
   "cell_type": "code",
   "execution_count": 5,
   "metadata": {},
   "outputs": [],
   "source": [
    "def get_acceleration(mass, pos, softening=0.1):\n",
    "    # positions r = [x,y,z] for all particles\n",
    "    x = pos[:, 0:1]\n",
    "    y = pos[:, 1:2]\n",
    "    z = pos[:, 2:3]\n",
    "\n",
    "    # matrix that stores all pairwise particle separations: r_j - r_i\n",
    "    dx = x.T - x\n",
    "    dy = y.T - y\n",
    "    dz = z.T - z\n",
    "\n",
    "    # matrix that stores 1/r^3 for all particle pairwise particle separations \n",
    "    inv_r3 = (dx ** 2 + dy ** 2 + dz ** 2 + softening ** 2)\n",
    "    inv_r3[inv_r3 > 0] = inv_r3[inv_r3 > 0] ** -1.5\n",
    "\n",
    "    # Accelerations in three directions\n",
    "    # @ is for matrix mulitiplication\n",
    "    ax = G * (dx * inv_r3) @ mass\n",
    "    ay = G * (dy * inv_r3) @ mass\n",
    "    az = G * (dz * inv_r3) @ mass\n",
    "\n",
    "    # The accerlation for each partilce in 3 directions \n",
    "    # Shape (N, 3)\n",
    "    a = np.hstack((ax, ay, az))\n",
    "    \n",
    "    return a"
   ]
  },
  {
   "cell_type": "code",
   "execution_count": 6,
   "metadata": {},
   "outputs": [],
   "source": [
    "acc = get_acceleration(mass, pos)"
   ]
  },
  {
   "cell_type": "markdown",
   "metadata": {},
   "source": [
    "## Time Integration\n",
    "\n",
    "- The positions and velocities are updated using a leap-frog scheme (‘kick-drift-kick’). For each timestep Δt, each particle receives a half-step ‘kick’:\n",
    "$$\n",
    "\\mathbf{v}_{i}=\\mathbf{v}_{i}+\\frac{\\Delta t}{2} \\times \\mathbf{a}_{i}\n",
    "$$\n",
    "\n",
    "- followed by a full-step ‘drift’:\n",
    "$$\n",
    "\\mathbf{r}_{i}=\\mathbf{r}_{i}+\\Delta t \\times \\mathbf{v}_{i}\n",
    "$$\n",
    "\n",
    "- followed by another half-step ‘kick’.\n",
    "- The ‘kick-drift-kick’ is a highly accurate second-order technique that does a good job at preserving the total energy of the system."
   ]
  },
  {
   "cell_type": "code",
   "execution_count": 7,
   "metadata": {},
   "outputs": [],
   "source": [
    "# Time step\n",
    "dt = 0.01\n",
    "\n",
    "# The 1/2 kick\n",
    "vel += acc * dt / 2.0\n",
    "\n",
    "# Full step drift \n",
    "pos += vel * dt\n",
    "\n",
    "# Update acceleration\n",
    "acc = get_acceleration(mass, pos, softening=softening)\n",
    "\n",
    "# Another 1/2 kick\n",
    "vel += acc * dt / 2.0"
   ]
  },
  {
   "cell_type": "markdown",
   "metadata": {},
   "source": [
    "## Energy Diagnostics\n",
    "\n",
    "- Total energy of the system\n",
    "\n",
    "$$\n",
    "E_{\\mathrm{Tot}}=\\sum_{i} \\frac{1}{2} m_{i} v_{i}^{2}-\\sum_{1 \\leq i<j \\leq N} \\frac{G m_{i} m_{j}}{\\left|r_{j}-r_{i}\\right|}\n",
    "$$\n"
   ]
  },
  {
   "cell_type": "code",
   "execution_count": 8,
   "metadata": {},
   "outputs": [
    {
     "data": {
      "text/plain": [
       "58.87669978455333"
      ]
     },
     "execution_count": 8,
     "metadata": {},
     "output_type": "execute_result"
    }
   ],
   "source": [
    "np.sum(np.sum( mass * vel**2 ))"
   ]
  },
  {
   "cell_type": "code",
   "execution_count": 9,
   "metadata": {},
   "outputs": [
    {
     "data": {
      "text/plain": [
       "58.87669978455333"
      ]
     },
     "execution_count": 9,
     "metadata": {},
     "output_type": "execute_result"
    }
   ],
   "source": [
    "(mass * vel ** 2).sum()"
   ]
  },
  {
   "cell_type": "code",
   "execution_count": 10,
   "metadata": {},
   "outputs": [],
   "source": [
    "def get_energy(mass, pos, vel):\n",
    "    # kinetic energy\n",
    "    KE = 0.5 * (mass * vel ** 2).sum()\n",
    "    \n",
    "    # positions r = [x,y,z] for all particles\n",
    "    x = pos[:, 0:1]\n",
    "    y = pos[:, 1:2]\n",
    "    z = pos[:, 2:3]\n",
    "\n",
    "    # matrix that stores all pairwise particle separations: r_j - r_i\n",
    "    dx = x.T - x\n",
    "    dy = y.T - y\n",
    "    dz = z.T - z\n",
    "    \n",
    "    # matrix that stores 1/r for all particle pairwise particle separations \n",
    "    inv_r = np.sqrt(dx ** 2 + dy ** 2 + dz ** 2)\n",
    "    inv_r[inv_r > 0] = 1.0 / inv_r[inv_r > 0]\n",
    "    \n",
    "    # sum over upper triangle, to count each interaction only once\n",
    "    # numpy.triu: Return a copy of a matrix with the elements below the k-th diagonal zeroed.\n",
    "    PE = G * np.sum(np.sum(np.triu(-(mass * mass.T) * inv_r, k=1)))\n",
    "    \n",
    "    return KE, PE"
   ]
  },
  {
   "cell_type": "code",
   "execution_count": 11,
   "metadata": {},
   "outputs": [
    {
     "data": {
      "text/plain": [
       "(29.438349892276666, -106.37854632888487)"
      ]
     },
     "execution_count": 11,
     "metadata": {},
     "output_type": "execute_result"
    }
   ],
   "source": [
    "get_energy(mass, pos, vel)"
   ]
  },
  {
   "cell_type": "markdown",
   "metadata": {},
   "source": [
    "## Put things together"
   ]
  },
  {
   "cell_type": "code",
   "execution_count": 40,
   "metadata": {},
   "outputs": [],
   "source": [
    "# Setup the simulation\n",
    "N = 100   # Number of particles\n",
    "\n",
    "# Randomize the initial conditions\n",
    "np.random.seed(17)\n",
    "\n",
    "# Particle mass: equal mass particle\n",
    "#mass = 20.0 * np.ones((N, 1)) / N   # So the total mass of the particle is 20\n",
    "\n",
    "mass = np.random.random((N, 1))\n",
    "mass = 20.0 * mass / mass.sum()\n",
    "\n",
    "# Random positions and velocities\n",
    "pos = np.random.randn(N, 3)\n",
    "vel = np.random.randn(N, 3)\n",
    "\n",
    "# Convert to Center-of-Mass frame\n",
    "vel -= np.mean(mass * vel, axis=0) / np.mean(mass)\n",
    "\n",
    "#The softening parameter in the code is a small number added to avoid numerical issues when 2 particles are close to each other, \n",
    "# in which case the acceleration from the ‘inverse square-law’ goes to infinity.\n",
    "softening = 0.05\n",
    "\n",
    "# Using natural's unit: gravitational constant G = 1\n",
    "G = 1.0\n",
    "\n",
    "# Time stup\n",
    "t = 0       # Current time\n",
    "dt = 0.01   # Timestep\n",
    "tEnd = 10.0 # End time of the simulation\n",
    "Nt = int(np.ceil((tEnd - t) / dt))  # Number of timesteps"
   ]
  },
  {
   "cell_type": "code",
   "execution_count": 41,
   "metadata": {},
   "outputs": [
    {
     "data": {
      "image/png": "[encoded data removed]",
      "text/plain": [
       "<Figure size 320x400 with 2 Axes>"
      ]
     },
     "metadata": {
      "needs_background": "light"
     },
     "output_type": "display_data"
    },
    {
     "data": {
      "text/plain": [
       "<matplotlib.legend.Legend at 0x113a4ff40>"
      ]
     },
     "execution_count": 41,
     "metadata": {},
     "output_type": "execute_result"
    },
    {
     "data": {
      "image/png": "[encoded data removed]",
      "text/plain": [
       "<Figure size 320x400 with 2 Axes>"
      ]
     },
     "metadata": {
      "needs_background": "light"
     },
     "output_type": "display_data"
    }
   ],
   "source": [
    "acc = get_acceleration(mass, pos, softening=softening)\n",
    "\n",
    "ke, pe = get_energy(mass, pos, vel)\n",
    "\n",
    "# Keep the result\n",
    "pos_save = np.zeros((N, 3, Nt + 1))\n",
    "ke_save = np.zeros(Nt + 1)\n",
    "pe_save = np.zeros(Nt + 1)\n",
    "\n",
    "pos_save[:, :, 0] = pos\n",
    "ke_save[0] = ke\n",
    "pe_save[0] = pe\n",
    "t_all = np.arange(Nt + 1) * dt\n",
    "\n",
    "# prep figure\n",
    "fig = plt.figure(figsize=(4, 5), dpi=80)\n",
    "grid = plt.GridSpec(3, 1, wspace=0.0, hspace=0.3)\n",
    "ax1 = plt.subplot(grid[0: 2, 0])\n",
    "ax2 = plt.subplot(grid[2, 0])\n",
    "\n",
    "for i in range(Nt):\n",
    "    # The 1/2 kick\n",
    "    vel += acc * dt / 2.0\n",
    "\n",
    "    # Full step drift \n",
    "    pos += vel * dt\n",
    "\n",
    "    # Update acceleration\n",
    "    acc = get_acceleration(mass, pos, softening=softening)\n",
    "\n",
    "    # Another 1/2 kick\n",
    "    vel += acc * dt / 2.0\n",
    "    \n",
    "    # Update time \n",
    "    t += dt\n",
    "    \n",
    "    # Update energy \n",
    "    ke, pe = get_energy(mass, pos, vel)\n",
    "    \n",
    "    pos_save[:, :, i + 1] = pos\n",
    "    ke_save[i + 1] = ke\n",
    "    pe_save[i + 1] = pe\n",
    "    \n",
    "    if i == Nt - 1:\n",
    "        plt.sca(ax1)\n",
    "        plt.cla()\n",
    "        xx = pos_save[:, 0, max(i - 50, 0): i + 1]\n",
    "        yy = pos_save[:, 1, max(i - 50, 0): i + 1]\n",
    "        plt.scatter(xx, yy, s=1, color=[.7,.7,1])\n",
    "        plt.scatter(pos[:, 0], pos[:, 1], s=10, color='blue')\n",
    "        ax1.set(xlim=(-5, 5), ylim=(-5, 5))\n",
    "        #ax1.set_aspect('equal', 'box')\n",
    "        ax1.set_xticks([])\n",
    "        ax1.set_yticks([])\n",
    "\n",
    "        plt.sca(ax2)\n",
    "        plt.cla()\n",
    "        plt.scatter(t_all, ke_save, color='red', s=1, label='KE' if i == Nt - 1 else \"\")\n",
    "        plt.scatter(t_all, pe_save, color='blue',s=1, label='PE' if i == Nt - 1 else \"\")\n",
    "        plt.scatter(t_all, ke_save + pe_save, color='black', s=1, label='Etot' if i == Nt - 1 else \"\")\n",
    "        ax2.set(xlim=(0, tEnd),)\n",
    "        #ax2.set_aspect(0.007)\n",
    "        plt.pause(0.001)\n",
    "    \n",
    "plt.sca(ax2)\n",
    "ax2.legend(loc='upper right')"
   ]
  },
  {
   "cell_type": "code",
   "execution_count": null,
   "metadata": {},
   "outputs": [],
   "source": []
  }
 ],
 "metadata": {
  "kernelspec": {
   "display_name": "Python 3",
   "language": "python",
   "name": "python3"
  },
  "language_info": {
   "codemirror_mode": {
    "name": "ipython",
    "version": 3
   },
   "file_extension": ".py",
   "mimetype": "text/x-python",
   "name": "python",
   "nbconvert_exporter": "python",
   "pygments_lexer": "ipython3",
   "version": "3.8.6"
  }
 },
 "nbformat": 4,
 "nbformat_minor": 4
}
